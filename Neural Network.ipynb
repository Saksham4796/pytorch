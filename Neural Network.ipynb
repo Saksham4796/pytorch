{
 "cells": [
  {
   "cell_type": "markdown",
   "id": "07ce900f",
   "metadata": {},
   "source": [
    "### Importing all the libraries"
   ]
  },
  {
   "cell_type": "code",
   "execution_count": 1,
   "id": "cd3717b3",
   "metadata": {},
   "outputs": [],
   "source": [
    "import torch\n",
    "import torch.nn as nn\n",
    "import torch.optim as optim\n",
    "import torch.nn.functional as F\n",
    "from torch.utils.data import DataLoader\n",
    "import torchvision.datasets as datasets\n",
    "import torchvision.transforms as transforms"
   ]
  },
  {
   "cell_type": "markdown",
   "id": "a4792155",
   "metadata": {},
   "source": [
    "### Creating a Neural Network"
   ]
  },
  {
   "cell_type": "code",
   "execution_count": 2,
   "id": "e554e725",
   "metadata": {},
   "outputs": [],
   "source": [
    "class NN(nn.Module):\n",
    "    \n",
    "    def __init__(self, input_size, num_classes):\n",
    "        super(NN,self).__init__()\n",
    "        self.fc1 = nn.Linear(input_size,300)\n",
    "        self.fc2 = nn.Linear(300, 200)\n",
    "        self.fc3 = nn.Linear(200, num_classes)\n",
    "        \n",
    "    def forward(self, x):\n",
    "        x = self.fc1(x)\n",
    "        x = F.relu(x)\n",
    "        x = self.fc2(x)\n",
    "        x = F.relu(x)\n",
    "        x = self.fc3(x)\n",
    "        #x = F.softmax(x)\n",
    "        return x\n"
   ]
  },
  {
   "cell_type": "markdown",
   "id": "675eaa74",
   "metadata": {},
   "source": [
    "### Checking the model on random data"
   ]
  },
  {
   "cell_type": "code",
   "execution_count": 3,
   "id": "5d877170",
   "metadata": {},
   "outputs": [
    {
     "name": "stdout",
     "output_type": "stream",
     "text": [
      "torch.Size([64, 10])\n"
     ]
    }
   ],
   "source": [
    "model = NN(784,10)\n",
    "x = torch.randn(64,784)\n",
    "print(model(x).shape)"
   ]
  },
  {
   "cell_type": "code",
   "execution_count": 4,
   "id": "4a4ac9ab",
   "metadata": {},
   "outputs": [],
   "source": [
    "arr = model(x)"
   ]
  },
  {
   "cell_type": "code",
   "execution_count": 5,
   "id": "c2df001b",
   "metadata": {},
   "outputs": [
    {
     "data": {
      "text/plain": [
       "tensor([[ 0.1844,  0.1732, -0.0874, -0.0231,  0.0335, -0.2187,  0.1254, -0.0349,\n",
       "          0.1977, -0.1596],\n",
       "        [ 0.1523,  0.1441, -0.0775,  0.0701,  0.0566, -0.1772, -0.0663, -0.1093,\n",
       "          0.2487, -0.1130],\n",
       "        [ 0.2166,  0.1678, -0.2731, -0.0151, -0.1103, -0.1758, -0.0751, -0.1203,\n",
       "          0.1286, -0.1955],\n",
       "        [ 0.0391,  0.2051, -0.0776,  0.0757, -0.0467, -0.1010,  0.0735,  0.0225,\n",
       "          0.1982, -0.1029],\n",
       "        [ 0.0672,  0.2038, -0.0117,  0.0520, -0.1068, -0.1884, -0.0485, -0.1894,\n",
       "          0.0660, -0.1963],\n",
       "        [ 0.1234,  0.1905, -0.1016, -0.0234,  0.0165, -0.1088,  0.0331, -0.2198,\n",
       "          0.2032, -0.2575],\n",
       "        [ 0.1370,  0.2612, -0.1359,  0.0233, -0.0253, -0.1444,  0.1262, -0.1641,\n",
       "          0.2239, -0.1516],\n",
       "        [ 0.1197,  0.3092, -0.0347, -0.0604,  0.0486, -0.2086,  0.0153,  0.0493,\n",
       "          0.2113, -0.0669],\n",
       "        [ 0.0649,  0.2301, -0.0894, -0.0439, -0.0888, -0.1665, -0.0845,  0.0237,\n",
       "          0.1161, -0.0932],\n",
       "        [ 0.1088,  0.1430, -0.1524,  0.1082, -0.1703, -0.1140,  0.0600, -0.1658,\n",
       "          0.2351, -0.0581],\n",
       "        [ 0.1338,  0.2340, -0.0859,  0.0273,  0.0515, -0.0977,  0.0736, -0.2404,\n",
       "          0.1782, -0.0731],\n",
       "        [ 0.0377,  0.1199, -0.0793,  0.0471, -0.0927, -0.1794, -0.0457, -0.1124,\n",
       "          0.2410, -0.1362],\n",
       "        [ 0.1924,  0.3790, -0.1346, -0.0150,  0.0636, -0.2083,  0.0330, -0.2177,\n",
       "          0.2019, -0.2367],\n",
       "        [ 0.1175,  0.1437,  0.0040,  0.0692, -0.1815, -0.0946,  0.0655, -0.0693,\n",
       "          0.2191, -0.3070],\n",
       "        [ 0.0343,  0.2365, -0.0391,  0.0449,  0.0285, -0.1989,  0.0117, -0.1276,\n",
       "          0.1293, -0.2378],\n",
       "        [ 0.1563,  0.1866, -0.0725,  0.1208, -0.0579, -0.0866, -0.0239, -0.0753,\n",
       "          0.1725, -0.1376],\n",
       "        [ 0.2670,  0.2539, -0.0817, -0.0191,  0.0179, -0.2121, -0.0086, -0.0821,\n",
       "          0.1654, -0.3710],\n",
       "        [ 0.0025,  0.0987, -0.1292,  0.1241, -0.0378, -0.2349, -0.0496, -0.1855,\n",
       "          0.1469, -0.0731],\n",
       "        [ 0.1927,  0.1057, -0.0750,  0.0386, -0.0025, -0.3359, -0.0369, -0.1647,\n",
       "          0.1034, -0.1424],\n",
       "        [ 0.0103,  0.2387, -0.1052,  0.0560, -0.0334, -0.2085,  0.0450, -0.0198,\n",
       "          0.2670, -0.2637],\n",
       "        [ 0.1329,  0.2158, -0.0813,  0.1332, -0.1553, -0.2158,  0.0416, -0.1192,\n",
       "          0.3507, -0.2049],\n",
       "        [-0.0012,  0.1665, -0.0091,  0.0337, -0.0742, -0.2059, -0.1102, -0.0607,\n",
       "          0.2372, -0.1010],\n",
       "        [ 0.0437,  0.2332, -0.0739, -0.0857, -0.0794, -0.0777,  0.0946, -0.0980,\n",
       "          0.2117, -0.1462],\n",
       "        [ 0.0151,  0.1481, -0.1822,  0.1314, -0.2877,  0.0144,  0.0328, -0.1829,\n",
       "          0.2589, -0.2856],\n",
       "        [ 0.0126,  0.1375, -0.1440,  0.0610,  0.0645, -0.1647,  0.0823, -0.1124,\n",
       "          0.2573, -0.1668],\n",
       "        [ 0.1032,  0.1969, -0.0921, -0.0153, -0.0844, -0.1182, -0.1281, -0.0835,\n",
       "          0.2266, -0.1366],\n",
       "        [ 0.0915,  0.2180, -0.1515,  0.1774, -0.1394, -0.0756,  0.0015, -0.0365,\n",
       "          0.1379, -0.1150],\n",
       "        [ 0.1651,  0.0713, -0.0799,  0.0754,  0.0183, -0.1403,  0.0748, -0.0109,\n",
       "          0.2157, -0.1838],\n",
       "        [ 0.1660,  0.2222, -0.1085,  0.0456, -0.0506, -0.1510,  0.0301, -0.1743,\n",
       "          0.3525, -0.1511],\n",
       "        [ 0.0942,  0.3837, -0.0636,  0.1091, -0.0889, -0.0832,  0.0809, -0.1239,\n",
       "          0.3294, -0.2467],\n",
       "        [ 0.1337,  0.2690, -0.2357,  0.0455,  0.0040, -0.3005,  0.0399, -0.2350,\n",
       "          0.1267, -0.0881],\n",
       "        [ 0.0944,  0.2203, -0.0925,  0.0566, -0.0019, -0.2033,  0.0899, -0.0505,\n",
       "          0.0886, -0.2184],\n",
       "        [ 0.0495,  0.1812, -0.0061,  0.0219, -0.0556, -0.1507, -0.0272, -0.1284,\n",
       "          0.2547, -0.0863],\n",
       "        [-0.0019,  0.1530, -0.2546, -0.0671, -0.0690, -0.1946, -0.0389, -0.1782,\n",
       "          0.1594, -0.1095],\n",
       "        [ 0.0860,  0.3103, -0.1196,  0.0235, -0.0818, -0.2403, -0.0213, -0.1492,\n",
       "          0.2460, -0.1446],\n",
       "        [ 0.0799,  0.2182, -0.1452, -0.0974, -0.1718, -0.2224,  0.0286, -0.0982,\n",
       "          0.1579, -0.1412],\n",
       "        [ 0.0149,  0.1118, -0.0520,  0.0045, -0.0068, -0.1410, -0.0531,  0.0538,\n",
       "          0.1316, -0.0766],\n",
       "        [ 0.0884,  0.1480, -0.0709, -0.0658, -0.0262, -0.1333, -0.0295, -0.1535,\n",
       "          0.1614, -0.0222],\n",
       "        [ 0.0939,  0.1914, -0.0952,  0.0402, -0.0785, -0.0361,  0.0033,  0.0079,\n",
       "          0.2016, -0.2241],\n",
       "        [ 0.0485,  0.2719, -0.1035, -0.0127, -0.2268, -0.1423, -0.0828, -0.1045,\n",
       "          0.2178, -0.2220],\n",
       "        [ 0.0473,  0.2529, -0.1271,  0.0264, -0.2706, -0.2626,  0.0288, -0.1631,\n",
       "          0.2950, -0.3297],\n",
       "        [ 0.1492,  0.1446, -0.0695,  0.1519, -0.0136, -0.2212, -0.0089, -0.1460,\n",
       "          0.1290, -0.1610],\n",
       "        [ 0.0577,  0.2385,  0.0005,  0.0553, -0.0485, -0.2137, -0.0746, -0.1909,\n",
       "          0.1871, -0.1270],\n",
       "        [ 0.0332,  0.1090, -0.1363,  0.0581, -0.0130, -0.0852,  0.0294, -0.2337,\n",
       "          0.1303, -0.1028],\n",
       "        [ 0.0705,  0.1540, -0.1168,  0.0359, -0.0560, -0.1551,  0.0775, -0.0590,\n",
       "          0.3763, -0.1096],\n",
       "        [ 0.0854,  0.1761, -0.0746, -0.0604, -0.1347, -0.2283,  0.0086,  0.0161,\n",
       "          0.1755, -0.2641],\n",
       "        [ 0.1161,  0.1348, -0.1186, -0.0288, -0.2433, -0.0839,  0.0210, -0.1329,\n",
       "          0.1822, -0.1865],\n",
       "        [ 0.2118,  0.1648, -0.0649, -0.0024, -0.1093, -0.0842,  0.0467, -0.0360,\n",
       "          0.2071,  0.0236],\n",
       "        [ 0.0429,  0.0991, -0.1678, -0.0535, -0.0219, -0.1029,  0.0426, -0.2007,\n",
       "          0.2297, -0.0626],\n",
       "        [ 0.0288,  0.0848, -0.0791, -0.0050, -0.0332, -0.0203,  0.0780, -0.0103,\n",
       "          0.1156, -0.1225],\n",
       "        [ 0.1055,  0.1978, -0.1692,  0.0983,  0.1245, -0.1609, -0.0005,  0.0351,\n",
       "          0.1650, -0.0709],\n",
       "        [-0.0434,  0.1332, -0.2185,  0.0440, -0.0275, -0.2581, -0.0049, -0.0709,\n",
       "          0.2704, -0.1181],\n",
       "        [ 0.1016,  0.1570, -0.0836,  0.0623, -0.0932, -0.0915,  0.0784, -0.0658,\n",
       "          0.2558, -0.2015],\n",
       "        [ 0.0935,  0.1983, -0.0163,  0.0670, -0.0089, -0.2486,  0.0918, -0.0159,\n",
       "          0.2113, -0.2018],\n",
       "        [ 0.0316,  0.2143, -0.2011, -0.0211, -0.0416, -0.1676, -0.0413, -0.0415,\n",
       "          0.2348, -0.1809],\n",
       "        [ 0.0837,  0.1204, -0.0265,  0.0378,  0.0958, -0.1001,  0.1265,  0.0424,\n",
       "          0.0955, -0.1487],\n",
       "        [ 0.0524,  0.1511, -0.1691, -0.0615,  0.0193, -0.2665, -0.0551, -0.0219,\n",
       "          0.2236,  0.0048],\n",
       "        [ 0.0042,  0.2444,  0.0381,  0.0121, -0.0281, -0.1926,  0.0385, -0.1522,\n",
       "          0.2719, -0.0807],\n",
       "        [ 0.0400,  0.1381, -0.0488, -0.0808,  0.0133, -0.1812,  0.0064, -0.0888,\n",
       "          0.1352, -0.1894],\n",
       "        [ 0.0807,  0.2528, -0.1213,  0.1712, -0.0617, -0.2167,  0.0475, -0.1360,\n",
       "          0.2475, -0.2844],\n",
       "        [ 0.0445,  0.1621, -0.0842, -0.0413, -0.0797, -0.0774, -0.0205, -0.1222,\n",
       "          0.2029, -0.2863],\n",
       "        [ 0.0788,  0.2298, -0.1969,  0.0932, -0.0750, -0.1137,  0.0774, -0.2086,\n",
       "          0.0420, -0.0387],\n",
       "        [-0.0283,  0.2189, -0.1434,  0.0186,  0.0480, -0.2663, -0.0950, -0.1600,\n",
       "          0.0762, -0.2089],\n",
       "        [ 0.1778,  0.1708, -0.0172, -0.0582, -0.1297, -0.0689,  0.0708,  0.0376,\n",
       "          0.1772, -0.0729]], grad_fn=<AddmmBackward0>)"
      ]
     },
     "execution_count": 5,
     "metadata": {},
     "output_type": "execute_result"
    }
   ],
   "source": [
    "arr"
   ]
  },
  {
   "cell_type": "code",
   "execution_count": 6,
   "id": "90f0d97c",
   "metadata": {},
   "outputs": [
    {
     "data": {
      "text/plain": [
       "tensor([ 0.1906,  0.1285, -0.4522,  0.2857, -0.3522, -0.1443,  0.1503,  0.3827,\n",
       "        -0.1315, -0.0056,  0.2014, -0.2000,  0.0575, -0.0333, -0.1182,  0.1823,\n",
       "        -0.0705, -0.3379, -0.3170, -0.0137,  0.0977, -0.1250,  0.0224, -0.3377,\n",
       "         0.0273, -0.1314,  0.1083,  0.2057,  0.1808,  0.3910, -0.2406, -0.0168,\n",
       "         0.0529, -0.6016, -0.0909, -0.3917, -0.0129, -0.1036,  0.1044, -0.3564,\n",
       "        -0.5027, -0.0454, -0.1157, -0.2110,  0.2176, -0.3004, -0.3398,  0.3573,\n",
       "        -0.1950,  0.0366,  0.3247, -0.2938,  0.1195,  0.1705, -0.2144,  0.3268,\n",
       "        -0.1229,  0.1556, -0.2560, -0.0204, -0.3021, -0.1118, -0.5401,  0.2873],\n",
       "       grad_fn=<SumBackward1>)"
      ]
     },
     "execution_count": 6,
     "metadata": {},
     "output_type": "execute_result"
    }
   ],
   "source": [
    "torch.einsum(\"ij->i\",arr)"
   ]
  },
  {
   "cell_type": "markdown",
   "id": "b4cfb7f9",
   "metadata": {},
   "source": [
    "### Using CUDA if it is available"
   ]
  },
  {
   "cell_type": "code",
   "execution_count": 7,
   "id": "b6821621",
   "metadata": {},
   "outputs": [],
   "source": [
    "device = torch.device('cuda' if torch.cuda.is_available() else 'cpu')"
   ]
  },
  {
   "cell_type": "markdown",
   "id": "a440c836",
   "metadata": {},
   "source": [
    "### Model Parameters"
   ]
  },
  {
   "cell_type": "code",
   "execution_count": 8,
   "id": "94a0732f",
   "metadata": {},
   "outputs": [],
   "source": [
    "input_size = 784\n",
    "num_classes = 10\n",
    "learning_rate = 0.0001\n",
    "batch_size = 64\n",
    "num_epochs = 1"
   ]
  },
  {
   "cell_type": "markdown",
   "id": "0db6fef5",
   "metadata": {},
   "source": [
    "### Data Loading"
   ]
  },
  {
   "cell_type": "code",
   "execution_count": 9,
   "id": "5bf5dfa2",
   "metadata": {},
   "outputs": [],
   "source": [
    "train_dataset = datasets.MNIST(root='data/',train=True, transform=transforms.ToTensor(),download=True)\n",
    "train_loader = DataLoader(dataset=train_dataset,batch_size=batch_size,shuffle=True)\n",
    "test_dataset = datasets.MNIST(root='data/',train=False, transform=transforms.ToTensor(),download=True)\n",
    "test_loader = DataLoader(dataset=test_dataset,batch_size=batch_size,shuffle=True)"
   ]
  },
  {
   "cell_type": "markdown",
   "id": "131db9d9",
   "metadata": {},
   "source": [
    "### Intialize the Model"
   ]
  },
  {
   "cell_type": "code",
   "execution_count": 10,
   "id": "43b39a10",
   "metadata": {},
   "outputs": [],
   "source": [
    "model = NN(input_size=input_size,num_classes=num_classes).to(device)"
   ]
  },
  {
   "cell_type": "markdown",
   "id": "f37d57d3",
   "metadata": {},
   "source": [
    "### Loss and Optimizer"
   ]
  },
  {
   "cell_type": "code",
   "execution_count": 11,
   "id": "c1f91635",
   "metadata": {},
   "outputs": [],
   "source": [
    "criterion = nn.CrossEntropyLoss()\n",
    "optimizer = optim.Adam(model.parameters(), lr=learning_rate)"
   ]
  },
  {
   "cell_type": "markdown",
   "id": "ee6d12ef",
   "metadata": {},
   "source": [
    "### Train Network"
   ]
  },
  {
   "cell_type": "code",
   "execution_count": 12,
   "id": "dc77c51d",
   "metadata": {},
   "outputs": [],
   "source": [
    "for epoch in range(num_epochs):\n",
    "    \n",
    "    for batch_idx, (data, targets) in enumerate(train_loader):\n",
    "        # Get the data to CUDA if possible\n",
    "        data = data.to(device=device)\n",
    "        targets = targets.to(device=device)\n",
    "        \n",
    "        # Flattening the image data\n",
    "        data = data.reshape(data.shape[0],-1)\n",
    "        \n",
    "        # forward\n",
    "        scores = model(data)\n",
    "        loss = criterion(scores,targets)\n",
    "        \n",
    "        #backward\n",
    "        optimizer.zero_grad()\n",
    "        loss.backward()\n",
    "        \n",
    "        # Gradient Descent\n",
    "        optimizer.step()"
   ]
  },
  {
   "cell_type": "markdown",
   "id": "82df6464",
   "metadata": {},
   "source": [
    "### Checking the accuracy of the Model"
   ]
  },
  {
   "cell_type": "code",
   "execution_count": 13,
   "id": "b07e065e",
   "metadata": {},
   "outputs": [
    {
     "name": "stdout",
     "output_type": "stream",
     "text": [
      "Checking accuracy on training data\n",
      "Got 54907/60000 with accuracy 91.51\n",
      "Checking accuracy on test data\n",
      "Got 9165/10000 with accuracy 91.65\n"
     ]
    }
   ],
   "source": [
    "def check_accuracy(loader, model):\n",
    "    \n",
    "    if loader.dataset.train:\n",
    "        print(\"Checking accuracy on training data\")\n",
    "        \n",
    "    else :\n",
    "        print(\"Checking accuracy on test data\")\n",
    "    \n",
    "    num_correct = 0\n",
    "    num_samples = 0\n",
    "    \n",
    "    #model.eval()\n",
    "    \n",
    "    with torch.no_grad():\n",
    "        for x,y in loader:\n",
    "            x = x.to(device=device)\n",
    "            y = y.to(device=device)\n",
    "            \n",
    "            x = x.reshape(x.shape[0],-1)\n",
    "            \n",
    "            scores = model(x)\n",
    "            \n",
    "            _, predictions = scores.max(1)\n",
    "            num_correct += (predictions==y).sum()\n",
    "            num_samples += predictions.size(0)\n",
    "            \n",
    "    print(f'Got {num_correct}/{num_samples} with accuracy {float(num_correct)/float(num_samples)*100:.2f}')\n",
    "        \n",
    "    #model.train()\n",
    "\n",
    "check_accuracy(train_loader,model)\n",
    "check_accuracy(test_loader,model)"
   ]
  },
  {
   "cell_type": "code",
   "execution_count": null,
   "id": "35f1cf85",
   "metadata": {},
   "outputs": [],
   "source": []
  }
 ],
 "metadata": {
  "kernelspec": {
   "display_name": "Python 3 (ipykernel)",
   "language": "python",
   "name": "python3"
  },
  "language_info": {
   "codemirror_mode": {
    "name": "ipython",
    "version": 3
   },
   "file_extension": ".py",
   "mimetype": "text/x-python",
   "name": "python",
   "nbconvert_exporter": "python",
   "pygments_lexer": "ipython3",
   "version": "3.9.12"
  }
 },
 "nbformat": 4,
 "nbformat_minor": 5
}
