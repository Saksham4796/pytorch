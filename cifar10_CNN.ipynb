{
 "cells": [
  {
   "cell_type": "markdown",
   "id": "07ce900f",
   "metadata": {},
   "source": [
    "### Importing all the libraries"
   ]
  },
  {
   "cell_type": "code",
   "execution_count": 1,
   "id": "cd3717b3",
   "metadata": {},
   "outputs": [],
   "source": [
    "import torch\n",
    "import torch.nn as nn\n",
    "import torch.optim as optim\n",
    "import torch.nn.functional as F\n",
    "from torch.utils.data import DataLoader\n",
    "import torchvision.datasets as datasets\n",
    "import torchvision.transforms as transforms\n",
    "from tqdm import tqdm"
   ]
  },
  {
   "cell_type": "markdown",
   "id": "4f3a3de0",
   "metadata": {},
   "source": [
    "### Creating a Convolutional Neural Network Model"
   ]
  },
  {
   "cell_type": "code",
   "execution_count": 2,
   "id": "b7de70c8",
   "metadata": {},
   "outputs": [],
   "source": [
    "class CNN(nn.Module):\n",
    "    \n",
    "    def __init__(self, in_channels, num_classes):\n",
    "        super(CNN,self).__init__()\n",
    "        self.conv1 = nn.Conv2d(in_channels=in_channels,out_channels=8,kernel_size=(3,3),stride=(1,1),padding=(1,1))\n",
    "        self.pool = nn.MaxPool2d(kernel_size=(2,2),stride=(2,2))\n",
    "        self.conv2 = nn.Conv2d(in_channels=8,out_channels=16,kernel_size=(3,3),stride=(1,1),padding=(1,1))\n",
    "        self.conv3 = nn.Conv2d(in_channels=16,out_channels=32,kernel_size=(3,3),stride=(1,1),padding=(1,1))\n",
    "        self.fc1 = nn.Linear(32*4*4,120)\n",
    "        self.fc2 = nn.Linear(120,60)\n",
    "        self.fc3 = nn.Linear(60,num_classes)\n",
    "        \n",
    "    def forward(self, x):\n",
    "        x = self.conv1(x)\n",
    "        x = F.relu(x)\n",
    "        x = self.pool(x)\n",
    "        x = self.conv2(x)\n",
    "        x = F.relu(x)\n",
    "        x = self.pool(x)\n",
    "        x = self.conv3(x)\n",
    "        x = F.relu(x)\n",
    "        x = self.pool(x)\n",
    "        x = x.reshape(x.shape[0],-1)\n",
    "        x = self.fc1(x)\n",
    "        x = F.relu(x)\n",
    "        x = self.fc2(x)\n",
    "        x = F.relu(x)\n",
    "        x = self.fc3(x)\n",
    "        return x"
   ]
  },
  {
   "cell_type": "markdown",
   "id": "675eaa74",
   "metadata": {},
   "source": [
    "### Checking the model on random data"
   ]
  },
  {
   "cell_type": "code",
   "execution_count": 3,
   "id": "5d877170",
   "metadata": {},
   "outputs": [
    {
     "name": "stdout",
     "output_type": "stream",
     "text": [
      "torch.Size([64, 10])\n"
     ]
    }
   ],
   "source": [
    "model = CNN(3,10)\n",
    "x = torch.randn(64,3,32,32)\n",
    "print(model(x).shape)"
   ]
  },
  {
   "cell_type": "code",
   "execution_count": 4,
   "id": "4a4ac9ab",
   "metadata": {},
   "outputs": [],
   "source": [
    "arr = model(x)"
   ]
  },
  {
   "cell_type": "code",
   "execution_count": 5,
   "id": "c2df001b",
   "metadata": {},
   "outputs": [
    {
     "data": {
      "text/plain": [
       "tensor([[ 4.3238e-02,  1.4621e-01, -1.3712e-02, -4.8171e-02, -1.1338e-01,\n",
       "         -2.6922e-02,  9.6738e-02,  7.9698e-03, -6.4250e-02,  2.9148e-03],\n",
       "        [ 4.3549e-02,  1.4207e-01, -1.9574e-02, -5.2452e-02, -1.1164e-01,\n",
       "         -2.5913e-02,  9.1984e-02,  6.7695e-03, -6.1857e-02,  1.5936e-03],\n",
       "        [ 4.2473e-02,  1.4674e-01, -2.2778e-02, -5.8635e-02, -1.1206e-01,\n",
       "         -3.1381e-02,  8.7190e-02,  1.3693e-02, -5.8405e-02,  8.5062e-04],\n",
       "        [ 4.7629e-02,  1.4723e-01, -2.2115e-02, -5.9518e-02, -1.1543e-01,\n",
       "         -2.7104e-02,  8.9384e-02,  1.5468e-02, -5.3957e-02,  2.4833e-03],\n",
       "        [ 4.3611e-02,  1.4145e-01, -1.6574e-02, -5.7222e-02, -1.1190e-01,\n",
       "         -2.4696e-02,  9.5449e-02,  4.5117e-03, -6.5156e-02,  4.7266e-03],\n",
       "        [ 3.7957e-02,  1.4873e-01, -2.7225e-02, -5.7269e-02, -1.2076e-01,\n",
       "         -3.2448e-02,  8.8291e-02,  9.4849e-03, -5.5805e-02,  4.7141e-03],\n",
       "        [ 4.5041e-02,  1.5079e-01, -1.8506e-02, -6.0789e-02, -1.2472e-01,\n",
       "         -2.3046e-02,  9.6158e-02,  9.5933e-03, -5.6676e-02, -3.8006e-03],\n",
       "        [ 4.4504e-02,  1.4879e-01, -2.2274e-02, -6.1632e-02, -1.2372e-01,\n",
       "         -3.1079e-02,  8.6707e-02,  1.1116e-02, -5.3268e-02,  8.8868e-04],\n",
       "        [ 3.8900e-02,  1.4948e-01, -1.7643e-02, -5.6397e-02, -1.1965e-01,\n",
       "         -2.9000e-02,  9.3285e-02,  1.1254e-02, -6.0557e-02,  2.8733e-03],\n",
       "        [ 3.4486e-02,  1.4239e-01, -1.3070e-02, -4.8356e-02, -1.0859e-01,\n",
       "         -3.1435e-02,  9.0584e-02,  1.3430e-02, -5.9655e-02, -4.7486e-03],\n",
       "        [ 4.3378e-02,  1.4516e-01, -2.5032e-02, -5.1662e-02, -1.1397e-01,\n",
       "         -2.6965e-02,  9.0245e-02,  9.3371e-03, -5.8614e-02, -3.4907e-03],\n",
       "        [ 4.8427e-02,  1.4055e-01, -1.7547e-02, -5.3659e-02, -1.1913e-01,\n",
       "         -3.0355e-02,  8.7508e-02,  1.0448e-02, -5.5791e-02,  5.3407e-03],\n",
       "        [ 3.9308e-02,  1.4001e-01, -2.0814e-02, -5.5299e-02, -1.0576e-01,\n",
       "         -2.6697e-02,  8.8446e-02,  1.2839e-02, -5.7021e-02, -5.7694e-03],\n",
       "        [ 4.3156e-02,  1.4510e-01, -2.0582e-02, -5.5531e-02, -1.1290e-01,\n",
       "         -2.8633e-02,  8.9518e-02,  1.1010e-02, -5.6637e-02, -4.5236e-03],\n",
       "        [ 4.5200e-02,  1.4292e-01, -1.7712e-02, -5.3882e-02, -1.1056e-01,\n",
       "         -2.8330e-02,  8.5717e-02,  1.2309e-02, -6.0332e-02,  4.8691e-03],\n",
       "        [ 4.6375e-02,  1.4490e-01, -1.9672e-02, -6.2323e-02, -1.1621e-01,\n",
       "         -2.6116e-02,  8.6848e-02,  8.1184e-03, -5.8534e-02,  4.6749e-04],\n",
       "        [ 4.5535e-02,  1.4131e-01, -1.9995e-02, -5.8460e-02, -1.1111e-01,\n",
       "         -2.4711e-02,  9.0957e-02,  6.6156e-03, -6.2386e-02,  3.7750e-03],\n",
       "        [ 4.3394e-02,  1.4809e-01, -1.9701e-02, -5.7444e-02, -1.2001e-01,\n",
       "         -2.9235e-02,  8.8250e-02,  1.2966e-02, -5.7449e-02, -4.4096e-03],\n",
       "        [ 3.9099e-02,  1.4356e-01, -2.2032e-02, -5.6847e-02, -1.1775e-01,\n",
       "         -3.1075e-02,  8.7564e-02,  5.4799e-03, -5.8680e-02, -2.5217e-03],\n",
       "        [ 3.5596e-02,  1.4495e-01, -2.4135e-02, -5.7233e-02, -1.1518e-01,\n",
       "         -3.1285e-02,  9.0460e-02,  1.4716e-02, -5.9014e-02,  3.5917e-03],\n",
       "        [ 4.4578e-02,  1.4269e-01, -2.0732e-02, -5.5117e-02, -1.1556e-01,\n",
       "         -3.0467e-02,  8.5005e-02,  9.2039e-03, -5.8077e-02, -5.8101e-04],\n",
       "        [ 3.9062e-02,  1.4826e-01, -1.9904e-02, -5.8678e-02, -1.1678e-01,\n",
       "         -2.9767e-02,  9.3601e-02,  1.0486e-02, -6.7758e-02,  4.8792e-03],\n",
       "        [ 4.1153e-02,  1.3843e-01, -1.9854e-02, -5.8724e-02, -1.0798e-01,\n",
       "         -3.2207e-02,  8.4696e-02,  6.9618e-03, -6.0418e-02,  6.3313e-03],\n",
       "        [ 4.3045e-02,  1.4169e-01, -1.8833e-02, -5.6378e-02, -1.0667e-01,\n",
       "         -2.2386e-02,  9.3775e-02,  1.3021e-02, -6.2708e-02,  4.9395e-03],\n",
       "        [ 4.0533e-02,  1.4269e-01, -2.3266e-02, -5.4570e-02, -1.0945e-01,\n",
       "         -3.0084e-02,  8.4638e-02,  9.0901e-03, -5.8817e-02,  4.1760e-03],\n",
       "        [ 3.6149e-02,  1.4698e-01, -1.6677e-02, -5.0032e-02, -1.1569e-01,\n",
       "         -3.1440e-02,  9.2377e-02,  1.3299e-02, -5.7439e-02, -2.8970e-04],\n",
       "        [ 3.8119e-02,  1.4661e-01, -1.5478e-02, -5.0167e-02, -1.1698e-01,\n",
       "         -2.8488e-02,  9.4182e-02,  1.0675e-02, -5.6731e-02, -7.8916e-03],\n",
       "        [ 3.9356e-02,  1.5090e-01, -2.3251e-02, -5.6946e-02, -1.2249e-01,\n",
       "         -2.9837e-02,  9.5437e-02,  6.9930e-03, -5.9776e-02,  5.3549e-05],\n",
       "        [ 4.6297e-02,  1.4876e-01, -1.8425e-02, -6.2856e-02, -1.1148e-01,\n",
       "         -2.6517e-02,  8.8891e-02,  1.6366e-02, -5.5608e-02,  1.4420e-03],\n",
       "        [ 4.4231e-02,  1.4223e-01, -2.2614e-02, -6.0491e-02, -1.1227e-01,\n",
       "         -3.1056e-02,  8.5268e-02,  1.1714e-02, -5.7637e-02,  2.2294e-03],\n",
       "        [ 4.9815e-02,  1.4390e-01, -1.6375e-02, -5.2841e-02, -1.1697e-01,\n",
       "         -2.1986e-02,  9.4842e-02,  9.7320e-03, -5.5418e-02, -3.3728e-03],\n",
       "        [ 4.1923e-02,  1.4170e-01, -2.1400e-02, -5.3241e-02, -1.1820e-01,\n",
       "         -3.1727e-02,  8.5580e-02,  1.1127e-02, -5.7319e-02,  1.6777e-03],\n",
       "        [ 4.1770e-02,  1.4723e-01, -2.3918e-02, -6.1632e-02, -1.1714e-01,\n",
       "         -2.5413e-02,  9.0396e-02,  8.8999e-03, -6.1978e-02, -1.2715e-03],\n",
       "        [ 3.5478e-02,  1.4621e-01, -1.6512e-02, -5.3167e-02, -1.1582e-01,\n",
       "         -2.7134e-02,  9.6270e-02,  3.9554e-03, -6.4693e-02, -5.1216e-03],\n",
       "        [ 4.1845e-02,  1.4241e-01, -2.7428e-02, -6.1424e-02, -1.2014e-01,\n",
       "         -3.0141e-02,  9.2273e-02,  1.1570e-02, -5.3901e-02,  3.2565e-03],\n",
       "        [ 3.9143e-02,  1.4799e-01, -2.0465e-02, -5.5482e-02, -1.2238e-01,\n",
       "         -2.4597e-02,  9.4244e-02,  7.0128e-03, -5.9861e-02, -1.8733e-03],\n",
       "        [ 4.8846e-02,  1.4389e-01, -2.3633e-02, -5.9374e-02, -1.1932e-01,\n",
       "         -2.6374e-02,  8.9588e-02,  7.5615e-03, -5.7335e-02, -3.9025e-03],\n",
       "        [ 3.4666e-02,  1.4171e-01, -2.2860e-02, -5.6832e-02, -1.0901e-01,\n",
       "         -2.9777e-02,  9.2222e-02,  8.8126e-03, -6.2200e-02, -1.1894e-03],\n",
       "        [ 4.6397e-02,  1.5204e-01, -1.6736e-02, -5.5679e-02, -1.1556e-01,\n",
       "         -2.6100e-02,  9.1132e-02,  1.6243e-02, -5.4415e-02, -7.3843e-03],\n",
       "        [ 4.1958e-02,  1.4900e-01, -2.0972e-02, -5.9132e-02, -1.1947e-01,\n",
       "         -2.7152e-02,  8.9245e-02,  9.3535e-03, -5.8099e-02,  6.2431e-03],\n",
       "        [ 3.7000e-02,  1.4416e-01, -1.8734e-02, -5.5202e-02, -1.0995e-01,\n",
       "         -2.8752e-02,  9.5132e-02,  8.7965e-03, -6.7538e-02,  5.4877e-03],\n",
       "        [ 4.5733e-02,  1.4284e-01, -2.0994e-02, -5.6938e-02, -1.2063e-01,\n",
       "         -2.7490e-02,  9.1252e-02,  6.7559e-03, -5.8087e-02,  3.4937e-03],\n",
       "        [ 4.6528e-02,  1.4084e-01, -2.1585e-02, -5.5367e-02, -1.1720e-01,\n",
       "         -2.8507e-02,  8.8483e-02,  7.3806e-03, -5.5563e-02, -1.1327e-03],\n",
       "        [ 4.4823e-02,  1.4389e-01, -1.7182e-02, -5.4602e-02, -1.1911e-01,\n",
       "         -2.5127e-02,  9.1525e-02,  9.9687e-03, -5.6671e-02, -4.8426e-03],\n",
       "        [ 4.3980e-02,  1.4641e-01, -1.3000e-02, -5.5144e-02, -1.1276e-01,\n",
       "         -2.2327e-02,  9.6813e-02,  8.7989e-03, -6.0004e-02,  1.8841e-04],\n",
       "        [ 4.0317e-02,  1.3569e-01, -2.1667e-02, -5.1757e-02, -1.1243e-01,\n",
       "         -2.7029e-02,  8.9982e-02,  6.2744e-03, -6.1830e-02,  1.9916e-03],\n",
       "        [ 4.2392e-02,  1.4175e-01, -2.3071e-02, -5.2562e-02, -1.1593e-01,\n",
       "         -3.5250e-02,  8.7984e-02,  8.4267e-03, -6.2962e-02,  7.6981e-03],\n",
       "        [ 4.1969e-02,  1.4410e-01, -1.4130e-02, -5.5237e-02, -1.1004e-01,\n",
       "         -2.6469e-02,  9.1989e-02,  1.1444e-02, -6.0351e-02,  4.0752e-05],\n",
       "        [ 3.9493e-02,  1.4334e-01, -2.5996e-02, -5.5920e-02, -1.1842e-01,\n",
       "         -3.4050e-02,  8.8475e-02,  4.1709e-03, -5.8968e-02, -2.7365e-03],\n",
       "        [ 3.3912e-02,  1.4590e-01, -1.7916e-02, -5.4026e-02, -1.1049e-01,\n",
       "         -3.0180e-02,  9.5686e-02,  1.1645e-02, -6.3366e-02, -8.9268e-04],\n",
       "        [ 3.7575e-02,  1.3587e-01, -2.2568e-02, -5.3922e-02, -1.1297e-01,\n",
       "         -2.7336e-02,  8.8277e-02,  4.1946e-03, -6.3553e-02, -2.5636e-03],\n",
       "        [ 3.7521e-02,  1.4019e-01, -1.9825e-02, -4.7428e-02, -1.1718e-01,\n",
       "         -2.7344e-02,  9.3745e-02,  4.2705e-03, -6.0710e-02, -2.4605e-03],\n",
       "        [ 4.8836e-02,  1.4051e-01, -2.2285e-02, -5.3781e-02, -1.1349e-01,\n",
       "         -3.1849e-02,  8.6301e-02,  7.9731e-03, -6.3145e-02,  3.7206e-03],\n",
       "        [ 4.9082e-02,  1.4530e-01, -1.5849e-02, -5.5898e-02, -1.1761e-01,\n",
       "         -2.4127e-02,  9.1964e-02,  1.3573e-02, -5.1054e-02,  1.7835e-03],\n",
       "        [ 4.4774e-02,  1.4424e-01, -1.5506e-02, -5.6311e-02, -1.1792e-01,\n",
       "         -2.3983e-02,  8.8146e-02,  1.0119e-02, -5.5066e-02, -3.5589e-03],\n",
       "        [ 4.1228e-02,  1.4644e-01, -2.4461e-02, -5.4402e-02, -1.2389e-01,\n",
       "         -3.0975e-02,  8.8889e-02,  5.8353e-03, -5.8442e-02,  2.5814e-03],\n",
       "        [ 3.5898e-02,  1.3993e-01, -1.8953e-02, -5.6728e-02, -1.1514e-01,\n",
       "         -3.1221e-02,  9.0628e-02,  5.2366e-03, -6.6776e-02,  1.7165e-03],\n",
       "        [ 4.0976e-02,  1.4527e-01, -2.0420e-02, -5.4981e-02, -1.1767e-01,\n",
       "         -2.6107e-02,  9.2637e-02,  1.0524e-02, -5.5473e-02, -1.0159e-03],\n",
       "        [ 4.9670e-02,  1.4306e-01, -1.2767e-02, -5.6732e-02, -1.1127e-01,\n",
       "         -2.2096e-02,  9.0693e-02,  1.1569e-02, -5.5097e-02, -8.4971e-04],\n",
       "        [ 4.8874e-02,  1.4729e-01, -1.8485e-02, -5.7789e-02, -1.1553e-01,\n",
       "         -2.6901e-02,  9.6023e-02,  9.8869e-03, -5.9997e-02,  9.3157e-04],\n",
       "        [ 3.9725e-02,  1.4718e-01, -1.9646e-02, -5.3695e-02, -1.1665e-01,\n",
       "         -3.3359e-02,  9.4609e-02,  1.5398e-02, -5.6260e-02, -2.4830e-03],\n",
       "        [ 4.2633e-02,  1.4938e-01, -1.6873e-02, -5.8039e-02, -1.2183e-01,\n",
       "         -2.8993e-02,  8.8232e-02,  1.1401e-02, -5.3463e-02, -2.6980e-03],\n",
       "        [ 4.4337e-02,  1.4857e-01, -1.8088e-02, -4.9988e-02, -1.1850e-01,\n",
       "         -2.9029e-02,  9.6471e-02,  1.1072e-02, -5.8795e-02, -4.4797e-03],\n",
       "        [ 4.6845e-02,  1.4428e-01, -1.6345e-02, -5.0221e-02, -1.1408e-01,\n",
       "         -2.6908e-02,  8.9927e-02,  8.8423e-03, -5.9071e-02, -3.2426e-03]],\n",
       "       grad_fn=<AddmmBackward0>)"
      ]
     },
     "execution_count": 5,
     "metadata": {},
     "output_type": "execute_result"
    }
   ],
   "source": [
    "arr"
   ]
  },
  {
   "cell_type": "code",
   "execution_count": 6,
   "id": "90f0d97c",
   "metadata": {},
   "outputs": [
    {
     "data": {
      "text/plain": [
       "tensor([ 3.0635e-02,  1.4528e-02,  7.6833e-03,  2.4070e-02,  1.4202e-02,\n",
       "        -4.3292e-03,  1.4046e-02,  3.6158e-05,  1.2544e-02,  1.5034e-02,\n",
       "         8.3820e-03,  1.5791e-02,  9.2395e-03,  9.9744e-03,  2.0198e-02,\n",
       "         3.8573e-03,  1.1539e-02,  4.4544e-03, -1.3200e-02,  2.4588e-03,\n",
       "         9.4402e-04,  3.4040e-03, -1.6079e-03,  2.9489e-02,  4.9433e-03,\n",
       "         1.7236e-02,  1.3855e-02,  4.3635e-04,  2.6865e-02,  1.6016e-03,\n",
       "         3.1328e-02,  1.1350e-04, -3.0588e-03, -5.3433e-04, -1.6801e-03,\n",
       "         3.7343e-03, -4.8217e-05, -4.4509e-03,  2.9935e-02,  1.0972e-02,\n",
       "         1.0401e-02,  5.9367e-03,  3.8732e-03,  1.2676e-02,  3.2963e-02,\n",
       "        -4.5343e-04, -1.5316e-03,  2.3311e-02, -2.0607e-02,  1.0269e-02,\n",
       "        -1.6997e-02,  7.8399e-04,  2.7856e-03,  3.7171e-02,  1.4927e-02,\n",
       "        -7.2044e-03, -1.5403e-02,  1.3746e-02,  3.6174e-02,  2.4302e-02,\n",
       "         1.4814e-02,  9.7466e-03,  2.1569e-02,  2.0031e-02],\n",
       "       grad_fn=<SumBackward1>)"
      ]
     },
     "execution_count": 6,
     "metadata": {},
     "output_type": "execute_result"
    }
   ],
   "source": [
    "torch.einsum(\"ij->i\",arr)"
   ]
  },
  {
   "cell_type": "markdown",
   "id": "b4cfb7f9",
   "metadata": {},
   "source": [
    "### Using CUDA if it is available"
   ]
  },
  {
   "cell_type": "code",
   "execution_count": 7,
   "id": "b6821621",
   "metadata": {},
   "outputs": [],
   "source": [
    "device = torch.device('cuda' if torch.cuda.is_available() else 'cpu')"
   ]
  },
  {
   "cell_type": "markdown",
   "id": "a440c836",
   "metadata": {},
   "source": [
    "### Model Parameters"
   ]
  },
  {
   "cell_type": "code",
   "execution_count": 8,
   "id": "94a0732f",
   "metadata": {},
   "outputs": [],
   "source": [
    "in_channels = 3\n",
    "num_classes = 10\n",
    "learning_rate = 0.0001\n",
    "batch_size = 64\n",
    "num_epochs = 10"
   ]
  },
  {
   "cell_type": "markdown",
   "id": "0db6fef5",
   "metadata": {},
   "source": [
    "### Data Loading"
   ]
  },
  {
   "cell_type": "code",
   "execution_count": 9,
   "id": "5bf5dfa2",
   "metadata": {},
   "outputs": [
    {
     "name": "stdout",
     "output_type": "stream",
     "text": [
      "Files already downloaded and verified\n",
      "Files already downloaded and verified\n"
     ]
    }
   ],
   "source": [
    "# CIFAR Dataset\n",
    "train_dataset = datasets.CIFAR10(root='cifar_data/',train=True, transform=transforms.ToTensor(),download=True)\n",
    "train_loader = DataLoader(dataset=train_dataset,batch_size=batch_size,shuffle=True)\n",
    "test_dataset = datasets.CIFAR10(root='cifar_data/',train=False, transform=transforms.ToTensor(),download=True)\n",
    "test_loader = DataLoader(dataset=test_dataset,batch_size=batch_size,shuffle=True)"
   ]
  },
  {
   "cell_type": "markdown",
   "id": "131db9d9",
   "metadata": {},
   "source": [
    "### Intialize the Model"
   ]
  },
  {
   "cell_type": "code",
   "execution_count": 10,
   "id": "43b39a10",
   "metadata": {},
   "outputs": [],
   "source": [
    "model = CNN(in_channels=in_channels,num_classes=num_classes).to(device)"
   ]
  },
  {
   "cell_type": "markdown",
   "id": "f37d57d3",
   "metadata": {},
   "source": [
    "### Loss and Optimizer"
   ]
  },
  {
   "cell_type": "code",
   "execution_count": 11,
   "id": "c1f91635",
   "metadata": {},
   "outputs": [],
   "source": [
    "criterion = nn.CrossEntropyLoss()\n",
    "optimizer = optim.Adam(model.parameters(), lr=learning_rate)"
   ]
  },
  {
   "cell_type": "markdown",
   "id": "ee6d12ef",
   "metadata": {},
   "source": [
    "### Train Network"
   ]
  },
  {
   "cell_type": "code",
   "execution_count": 12,
   "id": "dc77c51d",
   "metadata": {},
   "outputs": [
    {
     "name": "stderr",
     "output_type": "stream",
     "text": [
      "100%|███████████████████████████████████████████| 10/10 [02:15<00:00, 13.53s/it]\n"
     ]
    }
   ],
   "source": [
    "for epoch in tqdm(range(num_epochs)):\n",
    "    \n",
    "    for batch_idx, (data, targets) in enumerate(train_loader):\n",
    "        # Get the data to CUDA if possible\n",
    "        data = data.to(device=device)\n",
    "        targets = targets.to(device=device)\n",
    "        \n",
    "        # forward\n",
    "        scores = model(data)\n",
    "        loss = criterion(scores,targets)\n",
    "        \n",
    "        #backward\n",
    "        optimizer.zero_grad()\n",
    "        loss.backward()\n",
    "        \n",
    "        # Gradient Descent\n",
    "        optimizer.step()"
   ]
  },
  {
   "cell_type": "markdown",
   "id": "82df6464",
   "metadata": {},
   "source": [
    "### Checking the accuracy of the Model"
   ]
  },
  {
   "cell_type": "code",
   "execution_count": 13,
   "id": "b07e065e",
   "metadata": {},
   "outputs": [
    {
     "name": "stdout",
     "output_type": "stream",
     "text": [
      "Checking accuracy on training data\n",
      "Accuracy of plane: 57.98 %\n",
      "Accuracy of car: 68.92 %\n",
      "Accuracy of bird: 24.6 %\n",
      "Accuracy of cat: 34.44 %\n",
      "Accuracy of deer: 31.38 %\n",
      "Accuracy of dog: 35.34 %\n",
      "Accuracy of frog: 62.76 %\n",
      "Accuracy of horse: 56.78 %\n",
      "Accuracy of ship: 60.62 %\n",
      "Accuracy of truck: 49.3 %\n",
      "Got 24106/50000 with accuracy 48.21\n",
      "Checking accuracy on test data\n",
      "Accuracy of plane: 60.1 %\n",
      "Accuracy of car: 70.2 %\n",
      "Accuracy of bird: 25.0 %\n",
      "Accuracy of cat: 33.0 %\n",
      "Accuracy of deer: 30.0 %\n",
      "Accuracy of dog: 36.9 %\n",
      "Accuracy of frog: 66.4 %\n",
      "Accuracy of horse: 58.3 %\n",
      "Accuracy of ship: 61.7 %\n",
      "Accuracy of truck: 47.5 %\n",
      "Got 4891/10000 with accuracy 48.91\n"
     ]
    }
   ],
   "source": [
    "def check_accuracy(loader, model):\n",
    "    \n",
    "    if loader.dataset.train:\n",
    "        print(\"Checking accuracy on training data\")\n",
    "        \n",
    "    else :\n",
    "        print(\"Checking accuracy on test data\")\n",
    "    \n",
    "    num_correct = 0\n",
    "    num_samples = 0\n",
    "    \n",
    "    n_class_correct = [0 for i in range(10)]\n",
    "    n_class_samples = [0 for i in range(10)]\n",
    "    #model.eval()\n",
    "    \n",
    "    classes = ('plane', 'car', 'bird', 'cat', 'deer', 'dog', 'frog', 'horse', 'ship', 'truck')\n",
    "\n",
    "    \n",
    "    with torch.no_grad():\n",
    "        \n",
    "        for x,y in loader:\n",
    "            x = x.to(device=device)\n",
    "            y = y.to(device=device)\n",
    "            \n",
    "            scores = model(x)\n",
    "            \n",
    "            _, predictions = scores.max(1)\n",
    "            num_correct += (predictions==y).sum()\n",
    "            num_samples += predictions.size(0)\n",
    "            \n",
    "            for i in range(y.size(0)):\n",
    "                label = y[i]\n",
    "                pred = predictions[i]\n",
    "                if (label == pred):\n",
    "                    n_class_correct[label] += 1\n",
    "                n_class_samples[label] += 1\n",
    "\n",
    "    for i in range(10):\n",
    "        acc = 100.0 * n_class_correct[i] / n_class_samples[i]\n",
    "        print(f'Accuracy of {classes[i]}: {acc} %')\n",
    "            \n",
    "    print(f'Got {num_correct}/{num_samples} with accuracy {float(num_correct)/float(num_samples)*100:.2f}')\n",
    "        \n",
    "    #model.train()\n",
    "\n",
    "check_accuracy(train_loader,model)\n",
    "check_accuracy(test_loader,model)"
   ]
  },
  {
   "cell_type": "code",
   "execution_count": null,
   "id": "35f1cf85",
   "metadata": {},
   "outputs": [],
   "source": []
  }
 ],
 "metadata": {
  "kernelspec": {
   "display_name": "Python 3 (ipykernel)",
   "language": "python",
   "name": "python3"
  },
  "language_info": {
   "codemirror_mode": {
    "name": "ipython",
    "version": 3
   },
   "file_extension": ".py",
   "mimetype": "text/x-python",
   "name": "python",
   "nbconvert_exporter": "python",
   "pygments_lexer": "ipython3",
   "version": "3.9.12"
  }
 },
 "nbformat": 4,
 "nbformat_minor": 5
}
