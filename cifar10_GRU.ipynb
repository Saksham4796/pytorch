{
 "cells": [
  {
   "cell_type": "markdown",
   "id": "07ce900f",
   "metadata": {},
   "source": [
    "### Importing all the libraries"
   ]
  },
  {
   "cell_type": "code",
   "execution_count": 1,
   "id": "cd3717b3",
   "metadata": {},
   "outputs": [],
   "source": [
    "import torch\n",
    "import torch.nn as nn\n",
    "import torch.optim as optim\n",
    "import torch.nn.functional as F\n",
    "from torch.utils.data import DataLoader\n",
    "import torchvision.datasets as datasets\n",
    "import torchvision.transforms as transforms"
   ]
  },
  {
   "cell_type": "markdown",
   "id": "b4cfb7f9",
   "metadata": {},
   "source": [
    "### Using CUDA if it is available"
   ]
  },
  {
   "cell_type": "code",
   "execution_count": 2,
   "id": "b6821621",
   "metadata": {},
   "outputs": [],
   "source": [
    "device = torch.device('cuda' if torch.cuda.is_available() else 'cpu')"
   ]
  },
  {
   "cell_type": "markdown",
   "id": "a440c836",
   "metadata": {},
   "source": [
    "### Model Parameters"
   ]
  },
  {
   "cell_type": "code",
   "execution_count": 3,
   "id": "94a0732f",
   "metadata": {},
   "outputs": [],
   "source": [
    "input_size = 32\n",
    "sequence_length = 96\n",
    "num_layers = 2\n",
    "hidden_size = 256\n",
    "num_classes = 10\n",
    "learning_rate = 0.0001\n",
    "batch_size = 64\n",
    "num_epochs = 2"
   ]
  },
  {
   "cell_type": "markdown",
   "id": "c7ec0c7c",
   "metadata": {},
   "source": [
    "### Creating a Recurrent Neural Network Model"
   ]
  },
  {
   "cell_type": "code",
   "execution_count": 4,
   "id": "1ad767f7",
   "metadata": {},
   "outputs": [],
   "source": [
    "class GRU(nn.Module):\n",
    "    \n",
    "    def __init__(self, input_size, hidden_size, num_layers, num_classes):\n",
    "        super(GRU,self).__init__()\n",
    "        self.hidden_size = hidden_size\n",
    "        self.num_layers = num_layers\n",
    "        self.gru = nn.GRU(input_size, hidden_size, num_layers, batch_first=True)\n",
    "        self.fc = nn.Linear(hidden_size*sequence_length, num_classes)\n",
    "        \n",
    "    def forward(self, x):\n",
    "        h0 = torch.zeros(self.num_layers, x.size(0), self.hidden_size).to(device)\n",
    "        # Forward Propagation\n",
    "        out, _ = self.gru(x, h0)\n",
    "        out = out.reshape(x.shape[0],-1)\n",
    "        out = self.fc(out)\n",
    "        return out"
   ]
  },
  {
   "cell_type": "markdown",
   "id": "675eaa74",
   "metadata": {},
   "source": [
    "### Checking the model on random data"
   ]
  },
  {
   "cell_type": "code",
   "execution_count": 5,
   "id": "5d877170",
   "metadata": {},
   "outputs": [
    {
     "name": "stdout",
     "output_type": "stream",
     "text": [
      "torch.Size([64, 10])\n"
     ]
    }
   ],
   "source": [
    "model = GRU(32,256,2,10)\n",
    "x = torch.randn(64,3,32,32)\n",
    "x = x.view(64,1,96,32)\n",
    "x = x.squeeze(1)\n",
    "print(model(x).shape)"
   ]
  },
  {
   "cell_type": "code",
   "execution_count": 6,
   "id": "4a4ac9ab",
   "metadata": {},
   "outputs": [],
   "source": [
    "arr = model(x)"
   ]
  },
  {
   "cell_type": "code",
   "execution_count": 7,
   "id": "c2df001b",
   "metadata": {},
   "outputs": [
    {
     "data": {
      "text/plain": [
       "tensor([[ 3.8484e-02,  2.8219e-02,  2.9172e-02,  5.7150e-02,  1.5003e-02,\n",
       "         -5.3912e-03,  5.1814e-02,  3.2247e-02,  1.3295e-02,  5.5467e-03],\n",
       "        [-1.6626e-02,  1.8278e-02,  2.7342e-02,  4.4273e-02, -2.7249e-02,\n",
       "         -2.1028e-02,  9.7414e-02, -3.7957e-02,  5.5258e-03,  2.1709e-02],\n",
       "        [-6.9339e-03,  8.6923e-03,  7.5507e-03, -5.7499e-03,  4.7875e-02,\n",
       "         -3.3388e-02, -1.8416e-05,  4.3156e-03,  3.4281e-02,  6.3463e-03],\n",
       "        [ 2.5319e-02,  5.3802e-02,  6.4802e-02,  6.9902e-02,  2.6182e-03,\n",
       "          3.6572e-02,  4.7059e-02, -2.3624e-02,  3.7857e-02, -2.8460e-02],\n",
       "        [ 1.2052e-02,  1.1871e-01, -1.7769e-03,  1.7487e-02,  6.0643e-02,\n",
       "          1.4280e-02, -5.0680e-03, -2.1882e-02,  4.3456e-02,  4.9815e-02],\n",
       "        [ 2.6355e-03,  2.8205e-02, -8.3395e-02,  4.5446e-02, -3.5871e-03,\n",
       "         -5.1333e-02,  6.4012e-02, -2.8095e-02,  8.9531e-03, -1.5778e-03],\n",
       "        [-2.8520e-02,  6.4932e-02,  2.9695e-02,  4.5779e-02,  1.0931e-02,\n",
       "          3.4072e-02,  5.6652e-03, -6.8795e-02,  2.0503e-02, -3.1866e-02],\n",
       "        [ 1.6273e-02,  4.6727e-02,  3.1459e-02,  2.6795e-02,  1.1213e-03,\n",
       "         -9.9600e-03, -4.9450e-03,  3.6222e-02,  3.9754e-03, -2.2475e-02],\n",
       "        [-5.7250e-02,  4.4883e-02,  2.9628e-02,  6.0982e-02,  8.8868e-02,\n",
       "          2.3739e-02, -1.5875e-02,  8.7465e-03, -8.6075e-03,  5.2756e-04],\n",
       "        [ 3.1409e-02,  1.5981e-02, -3.8374e-02,  4.5591e-03,  1.0548e-02,\n",
       "         -4.7449e-03,  1.2800e-02,  4.8317e-03,  9.2249e-03, -1.6426e-02],\n",
       "        [-1.2256e-02,  6.3327e-02, -3.6288e-02, -2.8332e-02,  3.6725e-02,\n",
       "          5.1858e-03,  4.2583e-02,  2.3970e-02,  3.5598e-02, -2.1587e-02],\n",
       "        [ 1.3056e-02, -2.5757e-02,  2.4241e-02, -1.5567e-02,  3.5554e-02,\n",
       "         -3.6057e-02,  5.4225e-02,  2.6168e-02,  6.2297e-02,  6.8049e-03],\n",
       "        [ 3.8752e-02,  3.2335e-02,  2.8898e-03,  3.8765e-03,  9.1963e-02,\n",
       "          1.1125e-03,  1.2869e-02, -2.9082e-02,  1.6494e-02, -2.1543e-02],\n",
       "        [ 3.3880e-03,  4.4777e-02,  3.0650e-02,  4.7612e-02,  6.9555e-03,\n",
       "          6.5877e-03,  1.5270e-03,  2.2155e-02,  7.8123e-03,  5.5806e-02],\n",
       "        [ 7.8415e-03, -9.6817e-03,  3.0629e-02,  4.4127e-02,  6.0354e-03,\n",
       "         -2.6964e-02,  3.2192e-02, -1.6463e-02, -8.8630e-03,  1.1614e-02],\n",
       "        [-4.8851e-02,  2.0882e-02,  3.9315e-03, -1.4224e-02,  9.3561e-03,\n",
       "         -3.2430e-02,  1.1001e-01, -1.3305e-02,  3.6614e-02,  1.3746e-02],\n",
       "        [ 1.7747e-02,  6.3938e-03,  4.3026e-02,  3.7596e-02, -1.1225e-02,\n",
       "          2.0006e-02,  9.1781e-03,  1.7972e-02, -2.4187e-02,  2.8290e-02],\n",
       "        [ 3.4079e-02,  3.5010e-02, -4.0178e-02, -1.5195e-02,  1.3794e-02,\n",
       "          2.6067e-02,  3.1842e-02, -6.6428e-03,  7.8027e-02,  2.8018e-02],\n",
       "        [-1.5751e-02,  1.0115e-02,  1.4942e-02, -1.6379e-03,  5.0687e-02,\n",
       "          5.9710e-03,  6.2000e-02,  3.3107e-02,  3.5999e-03,  2.6618e-02],\n",
       "        [-2.8744e-02,  6.0114e-02,  8.6662e-03, -5.5904e-02,  1.0089e-02,\n",
       "          7.1500e-03,  6.9724e-02, -1.5935e-03,  4.8003e-03, -2.0389e-02],\n",
       "        [-1.2500e-02,  4.2537e-02,  6.3270e-02,  6.0141e-03,  3.1242e-02,\n",
       "          2.9355e-02, -1.0683e-02,  1.8689e-03,  5.8219e-03,  1.1899e-01],\n",
       "        [-3.9869e-02,  5.9227e-02,  3.0749e-02,  6.2995e-02,  6.5789e-02,\n",
       "         -3.9792e-02,  4.4165e-02,  5.6573e-03,  1.9965e-02,  8.5876e-03],\n",
       "        [-7.0072e-03,  5.7007e-02,  1.5460e-02,  1.9246e-02, -2.9466e-02,\n",
       "          3.0896e-02,  4.4734e-02,  2.7223e-02, -1.7022e-02,  3.3345e-03],\n",
       "        [-1.3135e-02,  3.8696e-02,  4.6705e-02,  2.1586e-02,  4.2488e-02,\n",
       "          3.4416e-02,  1.4314e-02, -4.3343e-02,  3.4001e-02,  4.5959e-02],\n",
       "        [-2.7163e-02,  3.7144e-02, -1.2758e-02,  1.2272e-02,  7.5624e-02,\n",
       "          1.8872e-02,  6.2530e-02, -4.7907e-03,  5.7378e-02,  3.5646e-02],\n",
       "        [ 2.8736e-02, -1.5709e-02,  2.8257e-02,  2.8159e-02,  2.4702e-02,\n",
       "         -8.9880e-03,  1.5908e-02,  2.1637e-02,  2.8456e-02,  4.6659e-02],\n",
       "        [-1.5169e-02,  9.7102e-02, -1.4219e-02, -6.1190e-03,  2.9825e-02,\n",
       "         -1.6983e-02,  5.6988e-02,  3.7857e-02,  2.9405e-03,  2.8512e-02],\n",
       "        [ 1.2883e-02,  7.3252e-02,  2.4316e-02,  4.5186e-02,  5.4633e-02,\n",
       "         -4.2181e-03,  5.3825e-02,  8.5281e-03, -2.6696e-02,  5.9450e-02],\n",
       "        [ 3.6414e-02,  5.4596e-02,  2.9248e-02,  2.7916e-02,  6.1529e-02,\n",
       "          3.6976e-02,  2.3632e-02,  8.8656e-03,  1.3839e-02,  6.9773e-03],\n",
       "        [-1.3344e-02,  4.3220e-02, -1.9173e-02, -7.9606e-03,  6.8679e-03,\n",
       "          2.0644e-02,  3.5408e-02,  4.9596e-02,  4.1050e-02,  2.3181e-02],\n",
       "        [-4.6718e-02,  5.9376e-02, -1.2893e-02,  6.9567e-02,  1.7322e-02,\n",
       "          5.5026e-03,  5.9452e-02, -3.3644e-02,  1.8318e-02,  1.6133e-02],\n",
       "        [-2.4057e-02,  9.0388e-02, -4.9252e-03, -9.3411e-03,  7.1719e-02,\n",
       "          1.2200e-02, -7.2016e-04, -6.4810e-03, -8.2780e-03, -1.4086e-02],\n",
       "        [-6.5497e-02,  3.8212e-02,  2.3062e-02,  1.0706e-02, -2.1655e-02,\n",
       "          1.9566e-02,  9.3024e-02,  2.8802e-02,  7.2085e-02, -3.8004e-02],\n",
       "        [ 4.4936e-02,  3.3306e-02,  1.8841e-02,  5.1948e-02,  8.9967e-03,\n",
       "         -1.2496e-02,  5.5275e-02, -6.5467e-02, -1.0259e-02, -4.0155e-03],\n",
       "        [-1.3446e-02,  5.8267e-02,  5.0237e-02,  6.6337e-02, -8.7105e-04,\n",
       "         -4.5970e-02,  7.3816e-02, -8.5818e-03,  2.7966e-02, -8.9017e-04],\n",
       "        [ 3.5284e-02, -1.7038e-02,  2.9298e-02,  2.9875e-03,  2.7287e-02,\n",
       "         -5.5807e-02,  5.2815e-02,  5.2488e-02,  3.7032e-03,  2.9823e-02],\n",
       "        [-1.3717e-02,  3.7920e-02, -1.6379e-02,  1.7827e-02, -3.1506e-02,\n",
       "          2.4681e-02,  1.0868e-02, -1.1775e-01,  4.4993e-02, -3.9121e-02],\n",
       "        [ 2.2440e-02,  3.6886e-02, -2.4679e-02,  3.7185e-02,  3.4972e-02,\n",
       "         -2.0570e-02,  1.2290e-03,  3.7328e-03,  7.2097e-02, -1.0570e-02],\n",
       "        [-2.2696e-02,  2.1810e-02, -9.5499e-04, -2.5167e-03, -9.7738e-05,\n",
       "         -6.2024e-02, -3.2160e-02,  2.7251e-02,  8.3090e-03,  3.0476e-02],\n",
       "        [-6.6513e-02,  8.2946e-02,  9.7993e-03,  1.1191e-02, -1.2225e-02,\n",
       "         -1.4748e-02,  5.8594e-02, -4.0061e-03,  2.2436e-02,  4.3163e-02],\n",
       "        [-4.6137e-02,  5.7368e-02,  2.6623e-02,  2.0233e-02, -7.8102e-02,\n",
       "          1.7207e-02,  7.9715e-03,  1.7130e-02,  2.4078e-02,  5.9038e-02],\n",
       "        [ 9.4710e-03,  7.5285e-02,  1.5377e-02,  3.7115e-02,  4.5519e-02,\n",
       "         -6.2363e-02,  7.2605e-02,  8.3182e-03, -1.6240e-02,  6.2388e-02],\n",
       "        [-1.6930e-03,  4.3565e-02,  2.3918e-03,  5.5144e-04, -1.0999e-03,\n",
       "          1.7492e-02,  6.7856e-02, -3.7709e-02,  3.6961e-02,  2.8230e-02],\n",
       "        [-2.3744e-02,  4.2222e-02,  4.0482e-02, -1.7863e-02,  4.5498e-02,\n",
       "         -6.1505e-02,  8.4386e-02, -4.1198e-02,  2.7322e-02, -1.2763e-02],\n",
       "        [-5.2297e-02,  4.3116e-02,  2.8080e-03, -2.7003e-03,  3.9943e-02,\n",
       "         -3.2717e-03,  1.1212e-02, -3.3140e-02,  8.1205e-03,  3.9456e-03],\n",
       "        [-2.3566e-02,  4.2912e-02, -3.4990e-02,  6.5617e-02,  2.4012e-02,\n",
       "         -1.5459e-02,  1.1577e-01,  8.3822e-03,  6.4810e-02,  2.9784e-02],\n",
       "        [-2.2903e-02, -9.9504e-03,  2.4745e-02,  5.9973e-02,  1.6551e-02,\n",
       "          1.0430e-02,  9.3255e-02, -2.4393e-02,  7.6135e-02,  5.5228e-02],\n",
       "        [ 4.0931e-02,  8.5448e-02, -1.4813e-02,  5.5567e-02, -4.2295e-02,\n",
       "          6.6626e-03,  3.8547e-02, -4.0392e-02,  2.3231e-02,  3.4496e-02],\n",
       "        [ 1.4094e-02,  4.1327e-02,  7.1931e-02,  8.9183e-02,  8.0135e-02,\n",
       "          2.8048e-02,  6.0661e-02, -4.1931e-02,  3.0306e-02,  4.9895e-02],\n",
       "        [ 3.9798e-02, -1.6296e-02,  2.9632e-02,  2.3368e-03, -5.6797e-04,\n",
       "          2.8164e-03,  4.3918e-02, -1.4265e-03,  5.2192e-02, -1.2987e-02],\n",
       "        [-3.2833e-02,  2.6212e-02, -1.1086e-02,  6.2321e-03, -7.7426e-03,\n",
       "          2.2842e-03,  4.1294e-02, -3.2769e-02,  1.5686e-02, -1.4213e-02],\n",
       "        [-1.5991e-02,  2.0121e-02,  1.9454e-02,  2.2137e-02, -1.3323e-02,\n",
       "         -8.4272e-03,  5.8169e-02, -4.0562e-02, -7.5898e-03, -1.0041e-02],\n",
       "        [ 2.0190e-03,  6.7165e-02,  6.5695e-02,  2.2462e-02,  6.9505e-02,\n",
       "          3.7411e-02,  8.9483e-02,  6.9907e-03,  7.8970e-02, -1.0802e-03],\n",
       "        [ 1.8602e-02,  7.6398e-02, -2.4642e-02, -1.7798e-02,  3.2908e-02,\n",
       "          9.0012e-03,  7.6512e-02,  5.7729e-02,  2.0116e-02,  4.3550e-02],\n",
       "        [-5.5568e-02,  6.8623e-02, -8.2952e-03,  6.7115e-02,  3.4601e-02,\n",
       "          4.3175e-02,  5.2392e-02, -1.2021e-02,  3.2276e-02, -6.1199e-03],\n",
       "        [-1.4270e-02,  2.8299e-02, -4.3281e-03,  4.0157e-02, -1.5104e-02,\n",
       "         -3.5787e-02, -1.6928e-02, -2.8104e-03,  3.5450e-02, -3.2369e-02],\n",
       "        [-3.6288e-02,  5.7989e-02,  4.3718e-02,  1.9990e-02,  4.7865e-02,\n",
       "         -1.2282e-02,  8.5388e-02, -2.3302e-02,  2.0634e-02, -6.4161e-02],\n",
       "        [-6.2427e-02,  1.8866e-02, -1.5547e-02,  7.5328e-03,  4.9945e-02,\n",
       "         -4.9311e-02,  4.4259e-02, -5.4394e-02,  6.3825e-02,  2.6366e-02],\n",
       "        [ 4.5337e-02,  7.5481e-02,  4.0336e-02, -3.3439e-03, -1.4080e-02,\n",
       "          6.6039e-03,  4.3434e-02, -4.8709e-02,  9.1378e-04,  1.5074e-02],\n",
       "        [-1.8163e-02,  3.5557e-02,  2.2082e-02, -1.5344e-02,  2.3294e-02,\n",
       "          2.0232e-02,  1.0324e-02, -3.3997e-02,  3.0855e-03,  3.6103e-02],\n",
       "        [-3.7997e-02,  4.6678e-02, -7.3935e-03,  4.9131e-02, -6.0004e-03,\n",
       "          1.1245e-02,  3.8877e-02, -3.8642e-02,  6.6070e-02, -1.3576e-02],\n",
       "        [ 5.0476e-03,  9.6917e-02, -4.2288e-02,  3.3242e-02, -3.2407e-02,\n",
       "          5.7263e-02,  8.9964e-02, -1.1612e-02, -1.4708e-02,  1.4499e-02],\n",
       "        [-3.2735e-02,  6.7349e-02,  1.9702e-02,  5.0155e-02, -1.5397e-02,\n",
       "         -6.6744e-02,  3.1366e-02, -4.3225e-02,  2.8291e-02,  4.7500e-03],\n",
       "        [ 1.5095e-02,  2.2532e-02, -8.5775e-03, -1.6500e-02, -1.1152e-02,\n",
       "          4.3804e-02,  4.1715e-02,  3.5106e-02,  5.9432e-02,  4.8429e-02]],\n",
       "       grad_fn=<AddmmBackward0>)"
      ]
     },
     "execution_count": 7,
     "metadata": {},
     "output_type": "execute_result"
    }
   ],
   "source": [
    "arr"
   ]
  },
  {
   "cell_type": "code",
   "execution_count": 8,
   "id": "90f0d97c",
   "metadata": {},
   "outputs": [
    {
     "data": {
      "text/plain": [
       "tensor([ 0.2655,  0.1117,  0.0630,  0.2858,  0.2877, -0.0187,  0.0824,  0.1252,\n",
       "         0.1756,  0.0298,  0.1089,  0.1450,  0.1497,  0.2273,  0.0705,  0.0857,\n",
       "         0.1448,  0.1848,  0.1897,  0.0539,  0.2759,  0.2175,  0.1444,  0.2217,\n",
       "         0.2548,  0.1978,  0.2007,  0.3012,  0.3000,  0.1795,  0.1524,  0.1064,\n",
       "         0.1603,  0.1211,  0.2069,  0.1608, -0.0822,  0.1527, -0.0326,  0.1306,\n",
       "         0.1054,  0.2475,  0.1565,  0.0828,  0.0177,  0.2773,  0.2791,  0.1874,\n",
       "         0.4236,  0.1394, -0.0069,  0.0239,  0.4386,  0.2924,  0.2162, -0.0177,\n",
       "         0.1396,  0.0291,  0.1610,  0.0832,  0.1084,  0.1959,  0.0435,  0.2299],\n",
       "       grad_fn=<SumBackward1>)"
      ]
     },
     "execution_count": 8,
     "metadata": {},
     "output_type": "execute_result"
    }
   ],
   "source": [
    "torch.einsum(\"ij->i\",arr)"
   ]
  },
  {
   "cell_type": "markdown",
   "id": "0db6fef5",
   "metadata": {},
   "source": [
    "### Data Loading"
   ]
  },
  {
   "cell_type": "code",
   "execution_count": 9,
   "id": "5bf5dfa2",
   "metadata": {},
   "outputs": [
    {
     "name": "stdout",
     "output_type": "stream",
     "text": [
      "Files already downloaded and verified\n",
      "Files already downloaded and verified\n"
     ]
    }
   ],
   "source": [
    "train_dataset = datasets.CIFAR10(root='cifar_data/',train=True, transform=transforms.ToTensor(),download=True)\n",
    "train_loader = DataLoader(dataset=train_dataset,batch_size=batch_size,shuffle=True)\n",
    "test_dataset = datasets.CIFAR10(root='cifar_data/',train=False, transform=transforms.ToTensor(),download=True)\n",
    "test_loader = DataLoader(dataset=test_dataset,batch_size=batch_size,shuffle=True)"
   ]
  },
  {
   "cell_type": "markdown",
   "id": "131db9d9",
   "metadata": {},
   "source": [
    "### Intialize the Model"
   ]
  },
  {
   "cell_type": "code",
   "execution_count": 10,
   "id": "43b39a10",
   "metadata": {},
   "outputs": [],
   "source": [
    "model = GRU(input_size,hidden_size,num_layers,num_classes).to(device)"
   ]
  },
  {
   "cell_type": "markdown",
   "id": "f37d57d3",
   "metadata": {},
   "source": [
    "### Loss and Optimizer"
   ]
  },
  {
   "cell_type": "code",
   "execution_count": 11,
   "id": "c1f91635",
   "metadata": {},
   "outputs": [],
   "source": [
    "criterion = nn.CrossEntropyLoss()\n",
    "optimizer = optim.Adam(model.parameters(), lr=learning_rate)"
   ]
  },
  {
   "cell_type": "markdown",
   "id": "ee6d12ef",
   "metadata": {},
   "source": [
    "### Train Network"
   ]
  },
  {
   "cell_type": "code",
   "execution_count": 12,
   "id": "dc77c51d",
   "metadata": {},
   "outputs": [],
   "source": [
    "for epoch in range(num_epochs):\n",
    "    \n",
    "    for batch_idx, (data, targets) in enumerate(train_loader):\n",
    "        # Get the data to CUDA if possible\n",
    "        data = data.to(device=device).view(data.shape[0],1,96,32).squeeze(1)\n",
    "        targets = targets.to(device=device)\n",
    "        \n",
    "        # forward\n",
    "        scores = model(data)\n",
    "        loss = criterion(scores,targets)\n",
    "        \n",
    "        #backward\n",
    "        optimizer.zero_grad()\n",
    "        loss.backward()\n",
    "        \n",
    "        # Gradient Descent\n",
    "        optimizer.step()"
   ]
  },
  {
   "cell_type": "markdown",
   "id": "82df6464",
   "metadata": {},
   "source": [
    "### Checking the accuracy of the Model"
   ]
  },
  {
   "cell_type": "code",
   "execution_count": null,
   "id": "b07e065e",
   "metadata": {},
   "outputs": [
    {
     "name": "stdout",
     "output_type": "stream",
     "text": [
      "Checking accuracy on training data\n"
     ]
    }
   ],
   "source": [
    "def check_accuracy(loader, model):\n",
    "    \n",
    "    if loader.dataset.train:\n",
    "        print(\"Checking accuracy on training data\")\n",
    "        \n",
    "    else :\n",
    "        print(\"Checking accuracy on test data\")\n",
    "    \n",
    "    num_correct = 0\n",
    "    num_samples = 0\n",
    "    \n",
    "    n_class_correct = [0 for i in range(10)]\n",
    "    n_class_samples = [0 for i in range(10)]\n",
    "    #model.eval()\n",
    "    \n",
    "    classes = ('plane', 'car', 'bird', 'cat', 'deer', 'dog', 'frog', 'horse', 'ship', 'truck')\n",
    "        \n",
    "    with torch.no_grad():\n",
    "        for x,y in loader:\n",
    "            x = x.to(device=device).view(x.shape[0],1,96,32).squeeze(1)\n",
    "            y = y.to(device=device)\n",
    "            \n",
    "            scores = model(x)\n",
    "            \n",
    "            _, predictions = scores.max(1)\n",
    "            num_correct += (predictions==y).sum()\n",
    "            num_samples += predictions.size(0)\n",
    "            \n",
    "            for i in range(y.size(0)):\n",
    "                label = y[i]\n",
    "                pred = predictions[i]\n",
    "                if (label == pred):\n",
    "                    n_class_correct[label] += 1\n",
    "                n_class_samples[label] += 1\n",
    "\n",
    "    for i in range(10):\n",
    "        acc = 100.0 * n_class_correct[i] / n_class_samples[i]\n",
    "        print(f'Accuracy of {classes[i]}: {acc} %')\n",
    "            \n",
    "    print(f'Got {num_correct}/{num_samples} with accuracy {float(num_correct)/float(num_samples)*100:.2f}')\n",
    "        \n",
    "    #model.train()\n",
    "\n",
    "check_accuracy(train_loader,model)\n",
    "check_accuracy(test_loader,model)"
   ]
  },
  {
   "cell_type": "code",
   "execution_count": null,
   "id": "35f1cf85",
   "metadata": {},
   "outputs": [],
   "source": []
  }
 ],
 "metadata": {
  "kernelspec": {
   "display_name": "Python 3 (ipykernel)",
   "language": "python",
   "name": "python3"
  },
  "language_info": {
   "codemirror_mode": {
    "name": "ipython",
    "version": 3
   },
   "file_extension": ".py",
   "mimetype": "text/x-python",
   "name": "python",
   "nbconvert_exporter": "python",
   "pygments_lexer": "ipython3",
   "version": "3.9.12"
  }
 },
 "nbformat": 4,
 "nbformat_minor": 5
}
