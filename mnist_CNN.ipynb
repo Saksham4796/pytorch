{
 "cells": [
  {
   "cell_type": "markdown",
   "id": "07ce900f",
   "metadata": {},
   "source": [
    "### Importing all the libraries"
   ]
  },
  {
   "cell_type": "code",
   "execution_count": 1,
   "id": "cd3717b3",
   "metadata": {},
   "outputs": [],
   "source": [
    "import torch\n",
    "import torch.nn as nn\n",
    "import torch.optim as optim\n",
    "import torch.nn.functional as F\n",
    "from torch.utils.data import DataLoader\n",
    "import torchvision.datasets as datasets\n",
    "import torchvision.transforms as transforms"
   ]
  },
  {
   "cell_type": "markdown",
   "id": "4f3a3de0",
   "metadata": {},
   "source": [
    "### Creating a Convolutional Neural Network Model"
   ]
  },
  {
   "cell_type": "code",
   "execution_count": 2,
   "id": "b7de70c8",
   "metadata": {},
   "outputs": [],
   "source": [
    "class CNN(nn.Module):\n",
    "    \n",
    "    def __init__(self, in_channels, num_classes):\n",
    "        super(CNN,self).__init__()\n",
    "        self.conv1 = nn.Conv2d(in_channels=in_channels,out_channels=8,kernel_size=(3,3),stride=(1,1),padding=(1,1))\n",
    "        self.pool = nn.MaxPool2d(kernel_size=(2,2),stride=(2,2))\n",
    "        self.conv2 = nn.Conv2d(in_channels=8,out_channels=16,kernel_size=(3,3),stride=(1,1),padding=(1,1))\n",
    "        self.fc1 = nn.Linear(16*7*7,num_classes)\n",
    "        \n",
    "    def forward(self, x):\n",
    "        x = self.conv1(x)\n",
    "        x = F.relu(x)\n",
    "        x = self.pool(x)\n",
    "        x = self.conv2(x)\n",
    "        x = F.relu(x)\n",
    "        x = self.pool(x)\n",
    "        x = x.reshape(x.shape[0],-1)\n",
    "        x = self.fc1(x)\n",
    "        return x"
   ]
  },
  {
   "cell_type": "markdown",
   "id": "675eaa74",
   "metadata": {},
   "source": [
    "### Checking the model on random data"
   ]
  },
  {
   "cell_type": "code",
   "execution_count": 3,
   "id": "5d877170",
   "metadata": {},
   "outputs": [
    {
     "name": "stdout",
     "output_type": "stream",
     "text": [
      "torch.Size([64, 10])\n"
     ]
    }
   ],
   "source": [
    "model = CNN(1,10)\n",
    "x = torch.randn(64,1,28,28)\n",
    "print(model(x).shape)"
   ]
  },
  {
   "cell_type": "code",
   "execution_count": 4,
   "id": "4a4ac9ab",
   "metadata": {},
   "outputs": [],
   "source": [
    "arr = model(x)"
   ]
  },
  {
   "cell_type": "code",
   "execution_count": 5,
   "id": "c2df001b",
   "metadata": {},
   "outputs": [
    {
     "data": {
      "text/plain": [
       "tensor([[ 0.0411,  0.0094, -0.0314, -0.1825,  0.0867,  0.5282,  0.0913,  0.3074,\n",
       "          0.1280, -0.1461],\n",
       "        [ 0.0981,  0.0708,  0.0584, -0.1803,  0.3383,  0.3673,  0.0811,  0.2631,\n",
       "          0.1607, -0.0870],\n",
       "        [-0.0047, -0.0255,  0.1623, -0.0859,  0.2009,  0.6980,  0.1100,  0.2595,\n",
       "          0.2308, -0.2250],\n",
       "        [ 0.1517, -0.0834,  0.0278, -0.2252,  0.0855,  0.6027, -0.0635,  0.2982,\n",
       "          0.1572, -0.0416],\n",
       "        [-0.0080, -0.0575,  0.1462, -0.2526,  0.2703,  0.4847,  0.1044,  0.1317,\n",
       "          0.1023, -0.2084],\n",
       "        [-0.0118,  0.2010,  0.1356, -0.0351,  0.0799,  0.6375,  0.1318,  0.3176,\n",
       "          0.1485, -0.2061],\n",
       "        [ 0.1211,  0.0342,  0.0326, -0.1950,  0.0959,  0.4840,  0.0810,  0.2414,\n",
       "          0.0883,  0.0161],\n",
       "        [ 0.0117, -0.0040,  0.0116, -0.2754, -0.0091,  0.6615,  0.1393,  0.2580,\n",
       "          0.0986, -0.1880],\n",
       "        [ 0.0221,  0.0274,  0.1462, -0.1058,  0.2850,  0.6409,  0.2712,  0.2371,\n",
       "          0.1953, -0.0550],\n",
       "        [-0.0730,  0.0135,  0.0715, -0.2783,  0.1099,  0.4884,  0.1303,  0.3189,\n",
       "          0.1587, -0.1390],\n",
       "        [ 0.1429, -0.0023,  0.0533, -0.0987,  0.2319,  0.5527,  0.2330,  0.2004,\n",
       "          0.0982, -0.2638],\n",
       "        [ 0.1097,  0.0888,  0.3075, -0.1019, -0.0025,  0.5881,  0.1365,  0.3584,\n",
       "          0.1400, -0.2778],\n",
       "        [ 0.0361, -0.0281, -0.0491, -0.2973,  0.1794,  0.7553,  0.0329,  0.4146,\n",
       "          0.2857, -0.2146],\n",
       "        [-0.0014,  0.0070,  0.0244, -0.1549,  0.1034,  0.5912,  0.0166,  0.2808,\n",
       "          0.1228, -0.1412],\n",
       "        [ 0.0392,  0.0477,  0.0447, -0.1075,  0.1670,  0.5850,  0.3605,  0.3042,\n",
       "          0.1615, -0.3711],\n",
       "        [ 0.0735,  0.1161,  0.1541, -0.1497,  0.0516,  0.4941,  0.2154,  0.2921,\n",
       "          0.0361, -0.1652],\n",
       "        [ 0.0565,  0.0504,  0.0120, -0.2070,  0.1536,  0.6127,  0.0908,  0.3633,\n",
       "          0.1259, -0.3412],\n",
       "        [ 0.0785, -0.0318,  0.0867, -0.1249,  0.0683,  0.6592,  0.2534,  0.2704,\n",
       "          0.1618, -0.3208],\n",
       "        [ 0.1020,  0.1098,  0.1728, -0.0554,  0.0909,  0.7043,  0.1872,  0.3163,\n",
       "          0.0696, -0.3109],\n",
       "        [-0.0852,  0.0202,  0.0094, -0.1779,  0.1584,  0.6318,  0.1177,  0.1368,\n",
       "          0.3148, -0.2216],\n",
       "        [ 0.1147, -0.1494,  0.1559, -0.1902,  0.1207,  0.4828,  0.1502,  0.5436,\n",
       "          0.0357, -0.3113],\n",
       "        [ 0.0279, -0.0164, -0.0529, -0.1236,  0.0755,  0.5350,  0.1452,  0.1185,\n",
       "          0.2111, -0.1032],\n",
       "        [ 0.0024,  0.0425,  0.1370, -0.2501,  0.0802,  0.5882,  0.2330,  0.2847,\n",
       "          0.0612, -0.1453],\n",
       "        [ 0.1366, -0.1168, -0.0655, -0.1481,  0.0982,  0.3992,  0.2699,  0.3520,\n",
       "          0.2429, -0.1471],\n",
       "        [-0.0236,  0.0845,  0.1311, -0.2165,  0.0817,  0.6341,  0.1173,  0.2834,\n",
       "          0.1976, -0.1500],\n",
       "        [-0.0215,  0.1294,  0.0239, -0.2001, -0.0273,  0.4678,  0.1420,  0.1639,\n",
       "          0.1303, -0.2672],\n",
       "        [-0.1160, -0.0712,  0.1222, -0.1501,  0.1954,  0.5303,  0.1430,  0.3303,\n",
       "          0.0506, -0.0402],\n",
       "        [ 0.0951, -0.0558,  0.0617, -0.1183,  0.1624,  0.5597,  0.2822,  0.3547,\n",
       "          0.1777, -0.2100],\n",
       "        [ 0.0372, -0.1473,  0.0657, -0.2126,  0.1154,  0.5217,  0.0562,  0.2957,\n",
       "          0.2171, -0.1356],\n",
       "        [ 0.0859,  0.0681,  0.0982, -0.2009,  0.2232,  0.4675, -0.0347,  0.1882,\n",
       "          0.1734, -0.0562],\n",
       "        [ 0.0967, -0.1348,  0.0177, -0.3493,  0.0741,  0.5264, -0.0485,  0.3399,\n",
       "          0.2168, -0.2898],\n",
       "        [-0.0307,  0.0268, -0.0076, -0.2271, -0.0634,  0.5913,  0.2420,  0.1780,\n",
       "          0.2158, -0.2339],\n",
       "        [-0.0655, -0.0068,  0.0380, -0.2053,  0.0743,  0.5538,  0.1372,  0.1033,\n",
       "          0.1005, -0.1685],\n",
       "        [-0.0327,  0.1621, -0.0532,  0.0422,  0.2558,  0.4300,  0.2055,  0.2017,\n",
       "          0.0879, -0.1262],\n",
       "        [-0.0459,  0.0311,  0.0141, -0.1797,  0.0799,  0.6326,  0.2096,  0.3863,\n",
       "          0.2166, -0.2536],\n",
       "        [ 0.0835, -0.0305, -0.1514, -0.2316,  0.1542,  0.6585,  0.1136,  0.2472,\n",
       "          0.1993, -0.1727],\n",
       "        [ 0.1014,  0.0575,  0.0474, -0.2301,  0.1162,  0.4851,  0.1429,  0.2389,\n",
       "          0.1511, -0.1070],\n",
       "        [ 0.1000,  0.1450,  0.0476, -0.2171,  0.1278,  0.5552,  0.1933,  0.2976,\n",
       "          0.2284, -0.0999],\n",
       "        [-0.0565,  0.0694,  0.2052, -0.0743,  0.2245,  0.5308,  0.1164,  0.3377,\n",
       "          0.1708, -0.0881],\n",
       "        [ 0.0593, -0.0337, -0.0392, -0.1437,  0.1565,  0.5827,  0.1498,  0.2974,\n",
       "          0.2712, -0.1285],\n",
       "        [ 0.0060,  0.0767,  0.3001, -0.2533,  0.2003,  0.6841,  0.0205,  0.3341,\n",
       "          0.0957, -0.0164],\n",
       "        [-0.0145, -0.0016,  0.0279, -0.3097,  0.2383,  0.6970,  0.3392,  0.0746,\n",
       "          0.1958, -0.2330],\n",
       "        [ 0.0650, -0.0806,  0.1416, -0.3827,  0.1100,  0.5631,  0.0547,  0.4715,\n",
       "          0.1718, -0.2237],\n",
       "        [ 0.2289,  0.1768,  0.0304, -0.1903,  0.1614,  0.5014,  0.2820,  0.3565,\n",
       "          0.2453, -0.2576],\n",
       "        [-0.0759,  0.0913,  0.1000, -0.2776,  0.1308,  0.4731,  0.1621,  0.1567,\n",
       "          0.1569, -0.1843],\n",
       "        [-0.0075,  0.0333,  0.1385, -0.1970,  0.2315,  0.5376,  0.3463,  0.3597,\n",
       "          0.2856, -0.1645],\n",
       "        [ 0.0750, -0.1163,  0.0075, -0.1411, -0.0413,  0.3812,  0.1393,  0.2037,\n",
       "          0.3255, -0.2333],\n",
       "        [ 0.1228, -0.1828,  0.0444, -0.0953,  0.1924,  0.5837,  0.2109,  0.2820,\n",
       "          0.0374, -0.2398],\n",
       "        [-0.0632,  0.0062,  0.1380, -0.1066,  0.2618,  0.5663,  0.3745,  0.1879,\n",
       "          0.2719, -0.2803],\n",
       "        [ 0.0663, -0.0741,  0.0327, -0.2534,  0.1686,  0.4722,  0.1989,  0.2413,\n",
       "          0.1124, -0.1639],\n",
       "        [ 0.0069,  0.0418,  0.0469, -0.0382,  0.0482,  0.4876,  0.1465,  0.1884,\n",
       "          0.2486, -0.2071],\n",
       "        [ 0.0950,  0.0185, -0.0400, -0.3014,  0.1316,  0.4403,  0.3769,  0.1815,\n",
       "          0.1426, -0.2453],\n",
       "        [ 0.0617, -0.0071,  0.1089, -0.2254, -0.0371,  0.4812,  0.2625,  0.2527,\n",
       "          0.3151, -0.1668],\n",
       "        [-0.0413, -0.0718,  0.1181, -0.2597,  0.1732,  0.6257,  0.2750,  0.1074,\n",
       "          0.1410, -0.1153],\n",
       "        [ 0.0147, -0.0661,  0.1395, -0.1714,  0.1587,  0.6124,  0.2241,  0.2253,\n",
       "          0.0756, -0.1444],\n",
       "        [ 0.1238,  0.0058, -0.0532, -0.1604,  0.1654,  0.5128,  0.1998,  0.2154,\n",
       "          0.2073, -0.2574],\n",
       "        [-0.0022, -0.0118,  0.0369, -0.1777,  0.1319,  0.5526,  0.2584,  0.1919,\n",
       "          0.0458, -0.1404],\n",
       "        [-0.0016, -0.0347,  0.0558, -0.2182,  0.0247,  0.6071,  0.1104,  0.2254,\n",
       "          0.0800, -0.2513],\n",
       "        [ 0.0329,  0.1316,  0.0184, -0.1789,  0.1881,  0.5157,  0.2232,  0.1216,\n",
       "          0.2373, -0.0526],\n",
       "        [ 0.0939, -0.0044,  0.0273, -0.2040,  0.1400,  0.6130,  0.0210,  0.2723,\n",
       "          0.1538, -0.0531],\n",
       "        [ 0.0316,  0.0096,  0.1577, -0.1809,  0.1201,  0.7615,  0.1822,  0.1415,\n",
       "          0.1079, -0.1197],\n",
       "        [ 0.0700,  0.0562, -0.0210, -0.0534,  0.0249,  0.5898,  0.2209,  0.2430,\n",
       "          0.1557, -0.1788],\n",
       "        [ 0.1233,  0.0951,  0.0621, -0.2628, -0.0020,  0.6069,  0.2108,  0.2172,\n",
       "          0.1474, -0.2185],\n",
       "        [-0.0913,  0.0895, -0.0820, -0.1526,  0.1338,  0.6557,  0.0868,  0.2524,\n",
       "          0.3080, -0.2073]], grad_fn=<AddmmBackward0>)"
      ]
     },
     "execution_count": 5,
     "metadata": {},
     "output_type": "execute_result"
    }
   ],
   "source": [
    "arr"
   ]
  },
  {
   "cell_type": "code",
   "execution_count": 6,
   "id": "90f0d97c",
   "metadata": {},
   "outputs": [
    {
     "data": {
      "text/plain": [
       "tensor([0.8319, 1.1704, 1.3204, 0.9095, 0.7132, 1.3989, 0.9996, 0.7044, 1.6645,\n",
       "        0.8009, 1.1476, 1.3468, 1.1150, 0.8487, 1.2312, 1.1181, 0.9168, 1.1009,\n",
       "        1.3867, 0.9043, 0.9526, 0.8172, 1.0336, 1.0213, 1.1396, 0.5411, 0.9943,\n",
       "        1.3095, 0.8135, 1.0127, 0.4492, 0.6911, 0.5611, 1.1731, 1.0910, 0.8701,\n",
       "        1.0033, 1.3779, 1.4362, 1.1719, 1.4479, 1.0139, 0.8906, 1.5346, 0.7332,\n",
       "        1.5635, 0.6002, 0.9558, 1.3564, 0.8010, 0.9696, 0.7997, 1.0456, 0.9524,\n",
       "        1.0685, 0.9593, 0.8855, 0.5977, 1.2372, 1.0599, 1.2116, 1.1074, 0.9794,\n",
       "        0.9930], grad_fn=<SumBackward1>)"
      ]
     },
     "execution_count": 6,
     "metadata": {},
     "output_type": "execute_result"
    }
   ],
   "source": [
    "torch.einsum(\"ij->i\",arr)"
   ]
  },
  {
   "cell_type": "markdown",
   "id": "b4cfb7f9",
   "metadata": {},
   "source": [
    "### Using CUDA if it is available"
   ]
  },
  {
   "cell_type": "code",
   "execution_count": 7,
   "id": "b6821621",
   "metadata": {},
   "outputs": [],
   "source": [
    "device = torch.device('cuda' if torch.cuda.is_available() else 'cpu')"
   ]
  },
  {
   "cell_type": "markdown",
   "id": "a440c836",
   "metadata": {},
   "source": [
    "### Model Parameters"
   ]
  },
  {
   "cell_type": "code",
   "execution_count": 8,
   "id": "94a0732f",
   "metadata": {},
   "outputs": [],
   "source": [
    "in_channels = 1\n",
    "num_classes = 10\n",
    "learning_rate = 0.0001\n",
    "batch_size = 64\n",
    "num_epochs = 5"
   ]
  },
  {
   "cell_type": "markdown",
   "id": "0db6fef5",
   "metadata": {},
   "source": [
    "### Data Loading"
   ]
  },
  {
   "cell_type": "code",
   "execution_count": 9,
   "id": "5bf5dfa2",
   "metadata": {},
   "outputs": [],
   "source": [
    "# MNIST Dataset\n",
    "train_dataset = datasets.MNIST(root='data/',train=True, transform=transforms.ToTensor(),download=True)\n",
    "train_loader = DataLoader(dataset=train_dataset,batch_size=batch_size,shuffle=True)\n",
    "test_dataset = datasets.MNIST(root='data/',train=False, transform=transforms.ToTensor(),download=True)\n",
    "test_loader = DataLoader(dataset=test_dataset,batch_size=batch_size,shuffle=True)"
   ]
  },
  {
   "cell_type": "markdown",
   "id": "131db9d9",
   "metadata": {},
   "source": [
    "### Intialize the Model"
   ]
  },
  {
   "cell_type": "code",
   "execution_count": 10,
   "id": "43b39a10",
   "metadata": {},
   "outputs": [],
   "source": [
    "model = CNN(in_channels=in_channels,num_classes=num_classes).to(device)"
   ]
  },
  {
   "cell_type": "markdown",
   "id": "f37d57d3",
   "metadata": {},
   "source": [
    "### Loss and Optimizer"
   ]
  },
  {
   "cell_type": "code",
   "execution_count": 11,
   "id": "c1f91635",
   "metadata": {},
   "outputs": [],
   "source": [
    "criterion = nn.CrossEntropyLoss()\n",
    "optimizer = optim.Adam(model.parameters(), lr=learning_rate)"
   ]
  },
  {
   "cell_type": "markdown",
   "id": "ee6d12ef",
   "metadata": {},
   "source": [
    "### Train Network"
   ]
  },
  {
   "cell_type": "code",
   "execution_count": null,
   "id": "dc77c51d",
   "metadata": {},
   "outputs": [],
   "source": [
    "for epoch in range(num_epochs):\n",
    "    \n",
    "    for batch_idx, (data, targets) in enumerate(train_loader):\n",
    "        # Get the data to CUDA if possible\n",
    "        data = data.to(device=device)\n",
    "        targets = targets.to(device=device)\n",
    "        \n",
    "        # forward\n",
    "        scores = model(data)\n",
    "        loss = criterion(scores,targets)\n",
    "        \n",
    "        #backward\n",
    "        optimizer.zero_grad()\n",
    "        loss.backward()\n",
    "        \n",
    "        # Gradient Descent\n",
    "        optimizer.step()"
   ]
  },
  {
   "cell_type": "markdown",
   "id": "82df6464",
   "metadata": {},
   "source": [
    "### Checking the accuracy of the Model"
   ]
  },
  {
   "cell_type": "code",
   "execution_count": null,
   "id": "b07e065e",
   "metadata": {},
   "outputs": [
    {
     "name": "stdout",
     "output_type": "stream",
     "text": [
      "Checking accuracy on training data\n"
     ]
    }
   ],
   "source": [
    "def check_accuracy(loader, model):\n",
    "    \n",
    "    if loader.dataset.train:\n",
    "        print(\"Checking accuracy on training data\")\n",
    "        \n",
    "    else :\n",
    "        print(\"Checking accuracy on test data\")\n",
    "    \n",
    "    num_correct = 0\n",
    "    num_samples = 0\n",
    "    \n",
    "    #model.eval()\n",
    "    \n",
    "    with torch.no_grad():\n",
    "        for x,y in loader:\n",
    "            x = x.to(device=device)\n",
    "            y = y.to(device=device)\n",
    "            \n",
    "            scores = model(x)\n",
    "            \n",
    "            _, predictions = scores.max(1)\n",
    "            num_correct += (predictions==y).sum()\n",
    "            num_samples += predictions.size(0)\n",
    "            \n",
    "    print(f'Got {num_correct}/{num_samples} with accuracy {float(num_correct)/float(num_samples)*100:.2f}')\n",
    "        \n",
    "    #model.train()\n",
    "\n",
    "check_accuracy(train_loader,model)\n",
    "check_accuracy(test_loader,model)"
   ]
  },
  {
   "cell_type": "code",
   "execution_count": null,
   "id": "35f1cf85",
   "metadata": {},
   "outputs": [],
   "source": []
  }
 ],
 "metadata": {
  "kernelspec": {
   "display_name": "Python 3 (ipykernel)",
   "language": "python",
   "name": "python3"
  },
  "language_info": {
   "codemirror_mode": {
    "name": "ipython",
    "version": 3
   },
   "file_extension": ".py",
   "mimetype": "text/x-python",
   "name": "python",
   "nbconvert_exporter": "python",
   "pygments_lexer": "ipython3",
   "version": "3.9.12"
  }
 },
 "nbformat": 4,
 "nbformat_minor": 5
}
