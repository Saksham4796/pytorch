{
 "cells": [
  {
   "cell_type": "markdown",
   "id": "07ce900f",
   "metadata": {},
   "source": [
    "### Importing all the libraries"
   ]
  },
  {
   "cell_type": "code",
   "execution_count": 1,
   "id": "cd3717b3",
   "metadata": {},
   "outputs": [],
   "source": [
    "import torch\n",
    "import torch.nn as nn\n",
    "import torch.optim as optim\n",
    "import torch.nn.functional as F\n",
    "from torch.utils.data import DataLoader\n",
    "import torchvision.datasets as datasets\n",
    "import torchvision.transforms as transforms"
   ]
  },
  {
   "cell_type": "markdown",
   "id": "b4cfb7f9",
   "metadata": {},
   "source": [
    "### Using CUDA if it is available"
   ]
  },
  {
   "cell_type": "code",
   "execution_count": 2,
   "id": "b6821621",
   "metadata": {},
   "outputs": [],
   "source": [
    "device = torch.device('cuda' if torch.cuda.is_available() else 'cpu')"
   ]
  },
  {
   "cell_type": "markdown",
   "id": "a440c836",
   "metadata": {},
   "source": [
    "### Model Parameters"
   ]
  },
  {
   "cell_type": "code",
   "execution_count": 3,
   "id": "94a0732f",
   "metadata": {},
   "outputs": [],
   "source": [
    "input_size = 32\n",
    "sequence_length = 96\n",
    "num_layers = 2\n",
    "hidden_size = 256\n",
    "num_classes = 10\n",
    "learning_rate = 0.0001\n",
    "batch_size = 64\n",
    "num_epochs = 2"
   ]
  },
  {
   "cell_type": "markdown",
   "id": "c7ec0c7c",
   "metadata": {},
   "source": [
    "### Creating a Recurrent Neural Network Model"
   ]
  },
  {
   "cell_type": "code",
   "execution_count": 4,
   "id": "1ad767f7",
   "metadata": {},
   "outputs": [],
   "source": [
    "class LSTM(nn.Module):\n",
    "    \n",
    "    def __init__(self, input_size, hidden_size, num_layers, num_classes):\n",
    "        super(LSTM,self).__init__()\n",
    "        self.hidden_size = hidden_size\n",
    "        self.num_layers = num_layers\n",
    "        self.lstm = nn.LSTM(input_size, hidden_size, num_layers, batch_first=True)\n",
    "        self.fc = nn.Linear(hidden_size*sequence_length, num_classes)\n",
    "        \n",
    "    def forward(self, x):\n",
    "        h0 = torch.zeros(self.num_layers, x.size(0), self.hidden_size).to(device)\n",
    "        c0 = torch.zeros(self.num_layers, x.size(0), self.hidden_size).to(device)\n",
    "        # Forward Propagation\n",
    "        out, _ = self.lstm(x, (h0,c0))\n",
    "        out = out.reshape(x.shape[0],-1)\n",
    "        out = self.fc(out)\n",
    "        return out"
   ]
  },
  {
   "cell_type": "markdown",
   "id": "675eaa74",
   "metadata": {},
   "source": [
    "### Checking the model on random data"
   ]
  },
  {
   "cell_type": "code",
   "execution_count": 5,
   "id": "5d877170",
   "metadata": {},
   "outputs": [
    {
     "name": "stdout",
     "output_type": "stream",
     "text": [
      "torch.Size([64, 10])\n"
     ]
    }
   ],
   "source": [
    "model = LSTM(32,256,2,10)\n",
    "x = torch.randn(64,3,32,32)\n",
    "x = x.view(64,1,96,32)\n",
    "x = x.squeeze(1)\n",
    "print(model(x).shape)"
   ]
  },
  {
   "cell_type": "code",
   "execution_count": 6,
   "id": "4a4ac9ab",
   "metadata": {},
   "outputs": [],
   "source": [
    "arr = model(x)"
   ]
  },
  {
   "cell_type": "code",
   "execution_count": 7,
   "id": "c2df001b",
   "metadata": {},
   "outputs": [
    {
     "data": {
      "text/plain": [
       "tensor([[-1.4499e-02, -6.0854e-04, -9.4485e-03,  7.4918e-03, -2.3024e-02,\n",
       "          5.2489e-03, -1.3159e-02,  1.0678e-02, -4.5868e-03, -3.3060e-03],\n",
       "        [-1.7380e-02,  2.1766e-03, -8.4910e-03,  1.6562e-02, -1.5204e-02,\n",
       "          9.4150e-03, -7.4481e-03,  1.0093e-02, -9.0586e-03, -1.1713e-02],\n",
       "        [-1.4059e-02, -5.0177e-03, -2.0294e-02,  1.2504e-02, -9.4399e-03,\n",
       "          1.2521e-02,  7.1549e-04,  1.7123e-02,  1.1859e-02, -2.5747e-02],\n",
       "        [-1.6484e-02,  9.8910e-03, -2.2535e-02,  2.6131e-02, -1.9626e-02,\n",
       "          7.5717e-03, -8.7001e-03,  3.2235e-03,  1.5401e-02, -1.3365e-02],\n",
       "        [-2.2660e-02, -8.9296e-03, -2.1598e-02,  1.7321e-02, -1.6751e-02,\n",
       "          8.3844e-03,  7.2011e-03,  1.9935e-02, -9.5141e-03, -1.5437e-02],\n",
       "        [-2.4716e-02,  4.8425e-03, -5.1449e-03,  1.1560e-02,  4.7828e-03,\n",
       "          9.8432e-03, -1.4218e-02,  1.2663e-02, -9.2092e-03,  3.3147e-03],\n",
       "        [-1.0044e-02,  9.7843e-03, -1.9395e-02,  1.0526e-03,  3.2787e-03,\n",
       "          9.7046e-03, -8.4073e-04,  1.8693e-02,  7.5383e-03, -1.7734e-02],\n",
       "        [-1.1103e-02, -1.6827e-03, -3.0643e-02,  1.2614e-02, -1.2283e-02,\n",
       "          2.2441e-02, -9.5316e-03,  2.1631e-02,  1.4428e-02, -1.9526e-02],\n",
       "        [-3.2605e-02, -1.5607e-03, -2.0017e-02,  1.0910e-02, -6.2200e-03,\n",
       "          1.1435e-02, -9.0092e-03,  1.2572e-02, -8.6576e-03, -1.1534e-02],\n",
       "        [-6.1901e-03,  1.1816e-02, -1.8398e-02,  1.9486e-02, -7.2431e-03,\n",
       "          4.7358e-03, -1.0096e-02,  1.0067e-02,  1.5887e-02, -6.9298e-03],\n",
       "        [-7.1676e-03,  1.5783e-03, -1.6863e-02,  2.2305e-02,  1.8108e-03,\n",
       "         -6.1435e-03, -1.5172e-02,  7.8576e-03,  1.9279e-03, -1.3180e-02],\n",
       "        [-2.4490e-02,  9.3319e-03, -1.4091e-02,  6.9093e-03,  1.6181e-03,\n",
       "          1.0979e-02, -6.3750e-03, -2.4691e-03,  1.0925e-02, -4.9171e-03],\n",
       "        [-2.2055e-02,  3.6612e-03, -2.1201e-02,  1.0013e-02,  1.7993e-03,\n",
       "         -4.1232e-03,  1.4317e-03,  1.0254e-02, -9.7472e-03, -8.2271e-03],\n",
       "        [-1.9781e-02,  4.8011e-03, -1.2618e-02,  1.8305e-02, -1.1550e-02,\n",
       "          8.0264e-03, -1.7986e-02,  4.8510e-03,  5.4015e-03, -9.9347e-03],\n",
       "        [-2.5391e-02, -1.2880e-03, -8.5494e-03,  1.9630e-03,  9.2344e-03,\n",
       "          2.7216e-02, -1.8564e-02,  1.0753e-02,  1.4625e-02, -1.9993e-02],\n",
       "        [-2.1845e-02, -3.1062e-03, -1.8688e-02,  1.9149e-02, -6.5974e-03,\n",
       "          1.1514e-02, -5.9047e-03,  8.0809e-03,  7.1999e-03, -1.1161e-02],\n",
       "        [-5.9592e-03,  8.2435e-03, -2.4916e-02,  9.6405e-03,  6.6675e-03,\n",
       "          1.6778e-02, -6.7841e-03,  8.7539e-03,  4.5744e-03, -7.2849e-03],\n",
       "        [-1.3411e-02,  1.5539e-02, -1.2794e-02,  1.6829e-02,  1.4802e-03,\n",
       "          1.8780e-04,  1.4570e-04,  2.8977e-02, -9.0159e-03, -2.2880e-03],\n",
       "        [-1.2598e-02,  4.5133e-03, -1.1423e-02,  1.8970e-02, -1.3188e-02,\n",
       "          4.5089e-03, -9.4724e-03,  1.2248e-02, -1.4386e-02, -1.1660e-02],\n",
       "        [-1.6037e-02, -5.3961e-03, -1.9555e-02,  9.5266e-03,  1.2455e-03,\n",
       "          1.0869e-02, -1.2171e-02,  5.0853e-03,  2.3162e-03, -2.0013e-02],\n",
       "        [-1.6500e-02,  3.9398e-03, -2.1188e-02, -5.6752e-03, -4.3226e-03,\n",
       "          1.4524e-03, -9.9053e-03,  6.0065e-03,  1.9581e-03, -4.0048e-03],\n",
       "        [-2.1890e-02,  3.9714e-03, -1.9562e-02,  1.7402e-02, -5.6895e-03,\n",
       "          1.0165e-02, -6.6350e-03,  1.6417e-02,  2.2426e-03, -1.6402e-02],\n",
       "        [-2.4520e-02,  4.7686e-03, -2.1536e-02,  1.8287e-02, -3.8005e-03,\n",
       "          4.8052e-03, -2.8881e-03,  1.6596e-02, -5.3272e-07, -4.3214e-03],\n",
       "        [-2.6051e-02,  1.0458e-02, -1.8594e-02,  5.9747e-03,  1.0016e-02,\n",
       "          7.9871e-03, -1.0885e-02,  1.6042e-02,  6.5698e-03, -1.1594e-02],\n",
       "        [-1.5353e-02,  1.5005e-04, -2.1982e-02,  3.8133e-02,  5.1281e-03,\n",
       "          2.8151e-04, -4.1937e-03,  1.9044e-02,  1.4589e-02, -1.4861e-02],\n",
       "        [-1.4082e-02,  4.7167e-03, -1.7582e-02,  1.0186e-02, -2.0595e-02,\n",
       "          4.4937e-03,  7.9786e-04,  9.4031e-03,  4.3123e-03, -4.5094e-03],\n",
       "        [-1.7166e-02,  6.1870e-03, -2.5417e-02,  6.6237e-03,  1.0557e-03,\n",
       "         -3.8762e-03, -1.0992e-03,  2.4991e-02,  7.9044e-03, -6.4796e-04],\n",
       "        [-3.3768e-02, -1.0996e-02, -2.4306e-02,  1.2680e-02, -1.0852e-02,\n",
       "          8.4915e-03, -2.5743e-03,  9.7203e-03,  5.3455e-03, -1.3384e-02],\n",
       "        [-1.4148e-02,  3.7616e-03, -1.2096e-02,  1.2017e-02,  1.6166e-02,\n",
       "          6.5902e-03, -1.0603e-02,  3.9799e-03,  4.9648e-03, -7.1417e-03],\n",
       "        [-1.4623e-02,  1.6414e-02, -1.0031e-02,  7.8901e-04, -5.4174e-03,\n",
       "         -3.3137e-03, -9.4164e-03,  1.2883e-02,  1.0796e-02, -1.7573e-02],\n",
       "        [-1.8382e-02, -5.4152e-03, -2.3166e-02,  1.5907e-02, -1.8037e-03,\n",
       "         -5.0208e-04, -1.8049e-02,  1.6455e-02, -2.5026e-03, -1.7465e-02],\n",
       "        [-1.7167e-02,  1.4176e-02, -2.6423e-02,  1.6414e-02, -2.1948e-02,\n",
       "          1.0974e-02,  8.3446e-04,  1.8847e-02,  1.2962e-02, -1.0361e-02],\n",
       "        [-1.2931e-02,  1.7514e-03, -1.6944e-02,  1.7111e-02, -1.9158e-02,\n",
       "          1.8976e-03,  7.7825e-04,  2.2417e-02, -6.6511e-04, -1.0628e-02],\n",
       "        [-1.7331e-02,  7.1328e-03, -3.7710e-02,  9.2231e-03, -1.6627e-02,\n",
       "         -2.1899e-03,  1.5935e-03,  1.5681e-02,  2.0227e-03, -1.4609e-02],\n",
       "        [-3.3712e-03,  9.4490e-03, -1.6950e-02,  8.5090e-03, -3.9491e-03,\n",
       "         -1.5001e-03, -8.6426e-03,  1.7898e-02, -1.4173e-03, -8.6287e-03],\n",
       "        [-2.4633e-02,  6.3945e-03, -1.9103e-02,  1.9958e-02, -9.7134e-03,\n",
       "          1.4903e-02, -1.2099e-02,  8.3017e-03,  5.7793e-03, -9.0838e-03],\n",
       "        [-2.1181e-02,  6.7207e-03, -2.2232e-02,  8.8525e-03, -4.0580e-03,\n",
       "          5.8896e-03, -1.7583e-02,  8.3430e-03,  7.5113e-03, -4.0369e-02],\n",
       "        [-3.1364e-02,  8.4270e-03, -2.2319e-02,  1.5288e-03, -4.3390e-03,\n",
       "          2.1039e-03, -1.2205e-02,  8.7116e-04,  9.6842e-03, -1.4600e-02],\n",
       "        [-1.8172e-02, -8.6604e-03, -1.4693e-02,  1.5676e-02, -7.0102e-03,\n",
       "          9.9706e-03,  4.4545e-03,  2.1265e-02,  1.6749e-02, -1.2987e-03],\n",
       "        [-8.5269e-03,  1.7063e-02, -6.1818e-03,  4.3800e-03, -7.3942e-03,\n",
       "         -5.9968e-03, -8.9168e-03,  2.3228e-02,  1.2475e-02, -8.6131e-04],\n",
       "        [-1.0414e-02,  8.3940e-05, -1.8992e-02,  1.0253e-02, -1.1604e-02,\n",
       "          1.7495e-02, -1.4771e-02,  1.6139e-02, -4.2446e-03, -1.4267e-03],\n",
       "        [-2.5467e-02, -8.0781e-03, -2.3249e-02,  8.8289e-03,  3.3515e-03,\n",
       "          6.4570e-03, -1.7461e-03,  1.4764e-02,  1.0394e-02, -1.2586e-02],\n",
       "        [-1.1537e-02,  1.1155e-03, -2.4431e-02,  1.0595e-02, -9.0729e-03,\n",
       "         -8.7056e-04, -1.7549e-02,  1.9594e-02,  1.7069e-03, -2.0373e-02],\n",
       "        [-1.8845e-02,  9.6968e-03, -2.1618e-02,  1.5524e-02, -1.3050e-02,\n",
       "          9.3521e-03, -2.9585e-03,  1.1546e-02,  3.8253e-03,  7.8270e-04],\n",
       "        [-1.7426e-02,  8.9710e-03, -2.6222e-02,  1.3396e-02, -1.4534e-02,\n",
       "          3.9338e-03,  3.9136e-03,  2.7926e-02,  5.6012e-03, -7.0503e-03],\n",
       "        [-2.2033e-02, -1.3634e-03, -1.8650e-02,  2.0159e-02, -8.0043e-03,\n",
       "          1.0875e-02, -1.7054e-04,  1.0944e-02,  1.5260e-02, -1.1298e-02],\n",
       "        [-1.9036e-02,  1.1312e-02, -2.2485e-02,  1.7022e-02,  4.7311e-03,\n",
       "          1.5677e-02, -5.8250e-03,  1.1193e-02,  8.7725e-03, -2.2396e-04],\n",
       "        [-2.1898e-02,  1.4867e-02, -2.5476e-02,  1.7408e-02, -4.2218e-03,\n",
       "          3.0735e-03, -2.6075e-03,  1.9681e-02,  8.6798e-03, -2.3903e-02],\n",
       "        [-3.0151e-02,  1.2074e-02, -1.6492e-02,  2.4145e-02, -7.9858e-03,\n",
       "          3.6702e-03, -1.1787e-02,  1.1036e-02, -1.4398e-03,  6.8586e-03],\n",
       "        [-8.8089e-03,  6.2304e-03, -2.2501e-02,  1.3493e-02,  1.2353e-03,\n",
       "         -8.5920e-03, -1.8585e-02,  2.2950e-02,  3.4926e-03, -2.8368e-03],\n",
       "        [-2.2499e-02,  1.2756e-02, -2.8848e-02,  1.1508e-02, -7.2376e-03,\n",
       "          9.2228e-03, -1.2919e-02,  1.9363e-02,  3.4981e-03, -1.8932e-02],\n",
       "        [ 1.6779e-03, -4.6545e-03,  2.4720e-03,  2.1349e-02,  1.0815e-02,\n",
       "          5.2210e-03, -8.5978e-03,  2.3018e-02, -9.8665e-03, -1.3352e-02],\n",
       "        [-4.3636e-03,  1.9036e-03, -1.4208e-02,  6.3288e-03,  1.2433e-02,\n",
       "          1.7240e-02, -4.1504e-03,  1.8018e-02,  1.3311e-02, -1.2085e-02],\n",
       "        [-6.6402e-03,  1.6443e-03, -3.2739e-02,  1.3234e-02, -1.3880e-02,\n",
       "          5.9781e-03, -1.1481e-02,  9.5882e-03,  1.1877e-02, -5.9400e-03],\n",
       "        [-2.0020e-02,  7.3933e-03, -2.0905e-02,  6.8989e-03,  4.6871e-03,\n",
       "          2.6398e-03, -1.7948e-02,  1.2863e-02,  8.4249e-03, -6.5525e-03],\n",
       "        [-1.3563e-02,  4.8023e-03, -1.4172e-02,  2.3991e-02, -8.6787e-03,\n",
       "         -6.1271e-04, -1.4257e-02,  1.5560e-02, -1.0130e-02, -8.0372e-03],\n",
       "        [-2.3340e-02, -1.5714e-03, -2.3536e-02,  2.3122e-02, -6.1595e-03,\n",
       "          1.3379e-02, -7.0177e-03,  9.3523e-03,  7.3573e-03, -3.8960e-03],\n",
       "        [-1.7919e-02, -1.7187e-03, -1.1841e-02,  2.3493e-02, -1.5820e-02,\n",
       "         -3.1109e-03,  2.4678e-04,  9.6944e-03,  3.0221e-03,  2.8285e-03],\n",
       "        [-4.1527e-03,  2.0466e-02, -1.8843e-02,  5.4154e-03, -3.3790e-03,\n",
       "         -1.1222e-03, -1.4697e-02,  1.8492e-02,  7.5451e-03, -1.1118e-02],\n",
       "        [-1.2998e-02,  1.1857e-03, -1.9401e-02, -1.0459e-03, -6.2081e-04,\n",
       "          7.1575e-03, -6.5779e-03,  6.6758e-03,  3.4787e-03,  9.2122e-04],\n",
       "        [-2.6330e-02,  9.6706e-03, -1.9945e-02,  1.8984e-02, -5.0317e-03,\n",
       "          5.4733e-03,  1.2740e-03,  2.5189e-02,  5.4202e-03,  6.2931e-04],\n",
       "        [-2.6900e-02,  2.0572e-03, -2.7820e-02,  1.5686e-02, -3.3058e-03,\n",
       "          3.6201e-03, -7.7628e-03,  2.0191e-02,  3.9298e-03, -4.8986e-03],\n",
       "        [-7.0172e-03,  1.6498e-02, -2.3539e-02,  1.2954e-02,  6.7212e-03,\n",
       "         -6.5513e-04, -8.3964e-03,  7.2631e-03,  1.3153e-02, -1.4880e-02],\n",
       "        [-2.0813e-02, -6.8410e-04, -2.5252e-02,  1.5937e-02, -1.1600e-02,\n",
       "          7.6094e-03,  6.1776e-03,  2.9120e-02,  8.2753e-03, -1.9425e-02]],\n",
       "       grad_fn=<AddmmBackward0>)"
      ]
     },
     "execution_count": 7,
     "metadata": {},
     "output_type": "execute_result"
    }
   ],
   "source": [
    "arr"
   ]
  },
  {
   "cell_type": "code",
   "execution_count": 8,
   "id": "90f0d97c",
   "metadata": {},
   "outputs": [
    {
     "data": {
      "text/plain": [
       "tensor([-0.0452, -0.0310, -0.0198, -0.0185, -0.0420, -0.0063,  0.0020, -0.0137,\n",
       "        -0.0547,  0.0131, -0.0230, -0.0126, -0.0382, -0.0305, -0.0100, -0.0214,\n",
       "         0.0097,  0.0257, -0.0325, -0.0441, -0.0482, -0.0200, -0.0126, -0.0101,\n",
       "         0.0209, -0.0229, -0.0014, -0.0596,  0.0035, -0.0195, -0.0549, -0.0017,\n",
       "        -0.0164, -0.0528, -0.0086, -0.0193, -0.0681, -0.0622,  0.0183,  0.0193,\n",
       "        -0.0175, -0.0273, -0.0508, -0.0057, -0.0015, -0.0043,  0.0211, -0.0144,\n",
       "        -0.0101, -0.0139, -0.0341,  0.0281,  0.0344, -0.0284, -0.0225, -0.0251,\n",
       "        -0.0123, -0.0111, -0.0014, -0.0212,  0.0153, -0.0252,  0.0021, -0.0107],\n",
       "       grad_fn=<SumBackward1>)"
      ]
     },
     "execution_count": 8,
     "metadata": {},
     "output_type": "execute_result"
    }
   ],
   "source": [
    "torch.einsum(\"ij->i\",arr)"
   ]
  },
  {
   "cell_type": "markdown",
   "id": "0db6fef5",
   "metadata": {},
   "source": [
    "### Data Loading"
   ]
  },
  {
   "cell_type": "code",
   "execution_count": 9,
   "id": "5bf5dfa2",
   "metadata": {},
   "outputs": [
    {
     "name": "stdout",
     "output_type": "stream",
     "text": [
      "Files already downloaded and verified\n",
      "Files already downloaded and verified\n"
     ]
    }
   ],
   "source": [
    "train_dataset = datasets.CIFAR10(root='cifar_data/',train=True, transform=transforms.ToTensor(),download=True)\n",
    "train_loader = DataLoader(dataset=train_dataset,batch_size=batch_size,shuffle=True)\n",
    "test_dataset = datasets.CIFAR10(root='cifar_data/',train=False, transform=transforms.ToTensor(),download=True)\n",
    "test_loader = DataLoader(dataset=test_dataset,batch_size=batch_size,shuffle=True)"
   ]
  },
  {
   "cell_type": "markdown",
   "id": "131db9d9",
   "metadata": {},
   "source": [
    "### Intialize the Model"
   ]
  },
  {
   "cell_type": "code",
   "execution_count": 10,
   "id": "43b39a10",
   "metadata": {},
   "outputs": [],
   "source": [
    "model = LSTM(input_size,hidden_size,num_layers,num_classes).to(device)"
   ]
  },
  {
   "cell_type": "markdown",
   "id": "f37d57d3",
   "metadata": {},
   "source": [
    "### Loss and Optimizer"
   ]
  },
  {
   "cell_type": "code",
   "execution_count": 11,
   "id": "c1f91635",
   "metadata": {},
   "outputs": [],
   "source": [
    "criterion = nn.CrossEntropyLoss()\n",
    "optimizer = optim.Adam(model.parameters(), lr=learning_rate)"
   ]
  },
  {
   "cell_type": "markdown",
   "id": "ee6d12ef",
   "metadata": {},
   "source": [
    "### Train Network"
   ]
  },
  {
   "cell_type": "code",
   "execution_count": 12,
   "id": "dc77c51d",
   "metadata": {},
   "outputs": [],
   "source": [
    "for epoch in range(num_epochs):\n",
    "    \n",
    "    for batch_idx, (data, targets) in enumerate(train_loader):\n",
    "        # Get the data to CUDA if possible\n",
    "        data = data.to(device=device).view(data.shape[0],1,96,32).squeeze(1)\n",
    "        targets = targets.to(device=device)\n",
    "        \n",
    "        # forward\n",
    "        scores = model(data)\n",
    "        loss = criterion(scores,targets)\n",
    "        \n",
    "        #backward\n",
    "        optimizer.zero_grad()\n",
    "        loss.backward()\n",
    "        \n",
    "        # Gradient Descent\n",
    "        optimizer.step()"
   ]
  },
  {
   "cell_type": "markdown",
   "id": "82df6464",
   "metadata": {},
   "source": [
    "### Checking the accuracy of the Model"
   ]
  },
  {
   "cell_type": "code",
   "execution_count": 13,
   "id": "b07e065e",
   "metadata": {},
   "outputs": [
    {
     "name": "stdout",
     "output_type": "stream",
     "text": [
      "Checking accuracy on training data\n",
      "Accuracy of plane: 45.98 %\n",
      "Accuracy of car: 46.88 %\n",
      "Accuracy of bird: 41.5 %\n",
      "Accuracy of cat: 32.26 %\n",
      "Accuracy of deer: 30.08 %\n",
      "Accuracy of dog: 33.36 %\n",
      "Accuracy of frog: 53.02 %\n",
      "Accuracy of horse: 58.14 %\n",
      "Accuracy of ship: 62.16 %\n",
      "Accuracy of truck: 61.36 %\n",
      "Got 23237/50000 with accuracy 46.47\n",
      "Checking accuracy on test data\n",
      "Accuracy of plane: 45.7 %\n",
      "Accuracy of car: 44.9 %\n",
      "Accuracy of bird: 42.6 %\n",
      "Accuracy of cat: 31.2 %\n",
      "Accuracy of deer: 27.4 %\n",
      "Accuracy of dog: 33.7 %\n",
      "Accuracy of frog: 57.2 %\n",
      "Accuracy of horse: 57.4 %\n",
      "Accuracy of ship: 62.6 %\n",
      "Accuracy of truck: 62.3 %\n",
      "Got 4650/10000 with accuracy 46.50\n"
     ]
    }
   ],
   "source": [
    "def check_accuracy(loader, model):\n",
    "    \n",
    "    if loader.dataset.train:\n",
    "        print(\"Checking accuracy on training data\")\n",
    "        \n",
    "    else :\n",
    "        print(\"Checking accuracy on test data\")\n",
    "    \n",
    "    num_correct = 0\n",
    "    num_samples = 0\n",
    "    \n",
    "    n_class_correct = [0 for i in range(10)]\n",
    "    n_class_samples = [0 for i in range(10)]\n",
    "    #model.eval()\n",
    "    \n",
    "    classes = ('plane', 'car', 'bird', 'cat', 'deer', 'dog', 'frog', 'horse', 'ship', 'truck')\n",
    "        \n",
    "    with torch.no_grad():\n",
    "        for x,y in loader:\n",
    "            x = x.to(device=device).view(x.shape[0],1,96,32).squeeze(1)\n",
    "            y = y.to(device=device)\n",
    "            \n",
    "            scores = model(x)\n",
    "            \n",
    "            _, predictions = scores.max(1)\n",
    "            num_correct += (predictions==y).sum()\n",
    "            num_samples += predictions.size(0)\n",
    "            \n",
    "            for i in range(y.size(0)):\n",
    "                label = y[i]\n",
    "                pred = predictions[i]\n",
    "                if (label == pred):\n",
    "                    n_class_correct[label] += 1\n",
    "                n_class_samples[label] += 1\n",
    "\n",
    "    for i in range(10):\n",
    "        acc = 100.0 * n_class_correct[i] / n_class_samples[i]\n",
    "        print(f'Accuracy of {classes[i]}: {acc} %')\n",
    "            \n",
    "    print(f'Got {num_correct}/{num_samples} with accuracy {float(num_correct)/float(num_samples)*100:.2f}')\n",
    "        \n",
    "    #model.train()\n",
    "\n",
    "check_accuracy(train_loader,model)\n",
    "check_accuracy(test_loader,model)"
   ]
  },
  {
   "cell_type": "code",
   "execution_count": null,
   "id": "35f1cf85",
   "metadata": {},
   "outputs": [],
   "source": []
  }
 ],
 "metadata": {
  "kernelspec": {
   "display_name": "Python 3 (ipykernel)",
   "language": "python",
   "name": "python3"
  },
  "language_info": {
   "codemirror_mode": {
    "name": "ipython",
    "version": 3
   },
   "file_extension": ".py",
   "mimetype": "text/x-python",
   "name": "python",
   "nbconvert_exporter": "python",
   "pygments_lexer": "ipython3",
   "version": "3.9.12"
  }
 },
 "nbformat": 4,
 "nbformat_minor": 5
}
