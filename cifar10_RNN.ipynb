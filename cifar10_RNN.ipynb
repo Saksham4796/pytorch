{
 "cells": [
  {
   "cell_type": "markdown",
   "id": "07ce900f",
   "metadata": {},
   "source": [
    "### Importing all the libraries"
   ]
  },
  {
   "cell_type": "code",
   "execution_count": 12,
   "id": "cd3717b3",
   "metadata": {},
   "outputs": [],
   "source": [
    "import torch\n",
    "import torch.nn as nn\n",
    "import torch.optim as optim\n",
    "import torch.nn.functional as F\n",
    "from torch.utils.data import DataLoader\n",
    "import torchvision.datasets as datasets\n",
    "import torchvision.transforms as transforms"
   ]
  },
  {
   "cell_type": "markdown",
   "id": "b4cfb7f9",
   "metadata": {},
   "source": [
    "### Using CUDA if it is available"
   ]
  },
  {
   "cell_type": "code",
   "execution_count": 13,
   "id": "b6821621",
   "metadata": {},
   "outputs": [],
   "source": [
    "device = torch.device('cuda' if torch.cuda.is_available() else 'cpu')"
   ]
  },
  {
   "cell_type": "markdown",
   "id": "a440c836",
   "metadata": {},
   "source": [
    "### Model Parameters"
   ]
  },
  {
   "cell_type": "code",
   "execution_count": 14,
   "id": "94a0732f",
   "metadata": {},
   "outputs": [],
   "source": [
    "input_size = 96\n",
    "sequence_length = 32\n",
    "num_layers = 2\n",
    "hidden_size = 256\n",
    "num_classes = 10\n",
    "learning_rate = 0.0001\n",
    "batch_size = 64\n",
    "num_epochs = 2"
   ]
  },
  {
   "cell_type": "markdown",
   "id": "c7ec0c7c",
   "metadata": {},
   "source": [
    "### Creating a Recurrent Neural Network Model"
   ]
  },
  {
   "cell_type": "code",
   "execution_count": 15,
   "id": "1ad767f7",
   "metadata": {},
   "outputs": [],
   "source": [
    "class RNN(nn.Module):\n",
    "    \n",
    "    def __init__(self, input_size, hidden_size, num_layers, num_classes):\n",
    "        super(RNN,self).__init__()\n",
    "        self.hidden_size = hidden_size\n",
    "        self.num_layers = num_layers\n",
    "        self.rnn = nn.RNN(input_size, hidden_size, num_layers, batch_first=True)\n",
    "        self.fc = nn.Linear(hidden_size*sequence_length, num_classes)\n",
    "        \n",
    "    def forward(self, x):\n",
    "        h0 = torch.zeros(self.num_layers, x.size(0), self.hidden_size).to(device)\n",
    "        # Forward Propagation\n",
    "        out, _ = self.rnn(x, h0)\n",
    "        out = out.reshape(x.shape[0],-1)\n",
    "        out = self.fc(out)\n",
    "        return out"
   ]
  },
  {
   "cell_type": "markdown",
   "id": "675eaa74",
   "metadata": {},
   "source": [
    "### Checking the model on random data"
   ]
  },
  {
   "cell_type": "code",
   "execution_count": 16,
   "id": "5d877170",
   "metadata": {},
   "outputs": [],
   "source": [
    "model = RNN(96,256,2,10)\n",
    "x = torch.randn(64,3,32,32)\n",
    "y = torch.zeros(64,1,32,96)\n",
    "for i in range(x.shape[0]):\n",
    "    temp = torch.cat([x[i][j] for j in range(x.shape[1])], dim=1)\n",
    "    y[i] = temp"
   ]
  },
  {
   "cell_type": "code",
   "execution_count": 17,
   "id": "6ab88c13",
   "metadata": {},
   "outputs": [
    {
     "name": "stdout",
     "output_type": "stream",
     "text": [
      "torch.Size([64, 10])\n"
     ]
    }
   ],
   "source": [
    "y = y.squeeze(1)\n",
    "print(model(y).shape)"
   ]
  },
  {
   "cell_type": "code",
   "execution_count": 18,
   "id": "4a4ac9ab",
   "metadata": {},
   "outputs": [],
   "source": [
    "arr = model(y)"
   ]
  },
  {
   "cell_type": "code",
   "execution_count": 19,
   "id": "c2df001b",
   "metadata": {},
   "outputs": [
    {
     "data": {
      "text/plain": [
       "tensor([[-9.1175e-02, -1.0364e-01,  5.0688e-03,  3.8312e-03, -8.6239e-02,\n",
       "         -4.6859e-02,  1.2940e-01, -2.2551e-02, -1.5549e-01,  2.3743e-02],\n",
       "        [ 9.7047e-03,  5.7825e-02, -3.2961e-02, -6.9764e-02,  3.3106e-01,\n",
       "          2.3889e-01,  2.0269e-01, -2.2587e-02, -6.3375e-02, -2.4675e-01],\n",
       "        [-5.2968e-02,  9.2787e-02, -1.3837e-02,  6.2412e-02,  6.8581e-02,\n",
       "         -8.9278e-02, -1.8089e-01, -5.5880e-02, -3.1822e-01, -1.7971e-01],\n",
       "        [-1.6568e-02, -1.2827e-01, -1.9070e-01, -2.9958e-02,  5.9358e-02,\n",
       "          9.0504e-03, -3.7893e-01, -1.8232e-01, -1.6324e-02, -2.1260e-01],\n",
       "        [ 4.2774e-02,  2.0241e-01, -2.2559e-01,  1.0465e-01, -1.1867e-01,\n",
       "         -6.6149e-02,  3.8775e-02, -2.6456e-02,  9.9592e-02, -6.8644e-02],\n",
       "        [ 2.1357e-01, -4.8056e-02,  1.4445e-01, -1.2700e-01, -3.1983e-02,\n",
       "         -6.6256e-02,  8.2118e-02, -1.5729e-01,  4.9228e-02,  6.7447e-02],\n",
       "        [ 1.8715e-01,  4.0879e-03, -2.1306e-01, -1.3676e-01, -8.9645e-03,\n",
       "          1.8195e-01, -2.8554e-01, -2.9700e-01,  8.6935e-02,  1.4528e-01],\n",
       "        [-8.4764e-02, -1.2312e-01, -1.0618e-01,  1.4042e-01, -2.3649e-02,\n",
       "         -1.1715e-01,  1.4045e-01,  1.3785e-01, -1.2534e-01,  5.0450e-03],\n",
       "        [ 3.6451e-02,  7.3740e-02,  2.7397e-01,  4.7296e-02,  3.5559e-02,\n",
       "         -1.6868e-01,  8.9179e-02, -6.2585e-02, -3.3055e-01, -1.3177e-01],\n",
       "        [ 6.6815e-02, -6.3012e-02,  1.1329e-01, -1.1418e-01, -5.4401e-04,\n",
       "         -1.4450e-01,  2.3961e-01, -1.4624e-01,  1.9429e-01, -2.4491e-01],\n",
       "        [-1.9027e-01, -1.1359e-02, -7.7967e-03,  1.8259e-02,  8.1941e-02,\n",
       "         -2.6261e-02,  1.5838e-01,  7.5347e-02, -4.9389e-02,  5.7878e-02],\n",
       "        [-1.1441e-01,  1.6224e-01,  4.5318e-02, -1.0873e-02,  7.2051e-02,\n",
       "          1.0351e-01, -1.7725e-01,  1.7675e-01, -8.7830e-02,  2.2756e-02],\n",
       "        [-1.4455e-01, -3.1917e-02, -1.2534e-02, -1.8504e-01, -7.2898e-02,\n",
       "          1.0386e-01,  1.2637e-01, -4.8194e-02, -1.8165e-01, -2.5319e-01],\n",
       "        [ 3.1031e-02,  1.4844e-01, -7.6714e-02, -1.8679e-01, -2.2325e-01,\n",
       "         -7.9445e-02,  2.3511e-02,  1.0302e-01, -2.0102e-01, -2.1005e-01],\n",
       "        [ 1.9604e-01,  5.1520e-02, -1.2959e-01,  1.2662e-02,  8.7172e-03,\n",
       "         -1.4124e-01, -1.2320e-01, -2.0311e-01, -1.3282e-01,  3.7178e-02],\n",
       "        [ 2.8080e-01, -1.6121e-02,  1.2853e-02, -5.0533e-02, -4.5806e-02,\n",
       "          1.0809e-01,  2.5083e-02,  6.3826e-02, -2.2360e-01,  1.9943e-01],\n",
       "        [ 1.6168e-01, -2.5535e-01,  2.6061e-01, -3.7955e-02, -9.0721e-02,\n",
       "         -1.4103e-01, -2.3045e-01, -1.4621e-01,  1.5334e-02,  1.9855e-02],\n",
       "        [ 2.8177e-02, -7.1899e-02,  7.2403e-02, -6.4786e-02,  8.4610e-02,\n",
       "          1.0279e-01,  7.4515e-02, -5.5805e-02,  3.0903e-02, -7.7830e-03],\n",
       "        [ 1.3073e-02, -6.6986e-02, -1.3455e-01,  1.6975e-02, -2.2678e-02,\n",
       "          9.6258e-02, -2.5448e-02, -3.0547e-02, -2.0433e-01,  2.3440e-04],\n",
       "        [ 5.4964e-02,  1.2373e-01, -2.5020e-02, -3.9198e-02,  8.8092e-02,\n",
       "         -4.3356e-02,  4.9949e-02, -2.9346e-01,  6.4113e-03, -8.9976e-03],\n",
       "        [ 1.7304e-01, -1.1027e-01, -1.9637e-01,  1.0673e-01, -9.5726e-02,\n",
       "          8.1585e-02, -2.0169e-01, -4.1364e-02,  3.7244e-02, -6.0341e-02],\n",
       "        [-2.6292e-02,  1.7508e-01,  1.9940e-02,  1.0054e-01, -7.3604e-02,\n",
       "          5.4313e-02,  1.4366e-01,  1.1597e-01, -1.1408e-02, -3.8457e-02],\n",
       "        [-9.4290e-02,  1.4633e-01,  2.6121e-02, -2.9228e-01, -1.5836e-01,\n",
       "         -2.6382e-01,  1.1281e-01, -1.2994e-01,  5.4349e-02,  1.1517e-01],\n",
       "        [ 1.0666e-01,  5.3360e-02, -3.5711e-02, -5.9963e-02, -1.9550e-02,\n",
       "         -4.7807e-02,  2.2749e-02, -1.0450e-01, -1.4615e-01, -2.5549e-01],\n",
       "        [ 1.4654e-01,  1.4341e-01, -1.5994e-01, -2.3273e-01,  2.8088e-01,\n",
       "          1.2642e-01,  7.9315e-02, -1.2508e-01, -6.9909e-05,  1.6306e-01],\n",
       "        [ 8.4934e-02,  2.2634e-02,  1.5640e-01,  6.6539e-02, -1.2575e-01,\n",
       "         -8.2050e-02,  3.4451e-02, -1.9756e-01, -2.6682e-03, -4.4666e-02],\n",
       "        [ 1.6908e-01,  2.2129e-02,  1.1518e-02, -3.9640e-01, -7.2817e-02,\n",
       "         -2.6904e-02, -3.6739e-02, -1.5824e-01,  1.8788e-01,  1.1927e-01],\n",
       "        [ 1.6478e-01,  9.0749e-02,  5.2595e-03,  6.3423e-02,  7.5902e-02,\n",
       "          1.8656e-01,  1.1129e-01, -6.6022e-02,  5.8689e-02,  1.4267e-02],\n",
       "        [ 1.3134e-01,  1.0740e-01, -2.1143e-01,  4.5043e-02, -1.2816e-01,\n",
       "          8.5361e-02,  3.1813e-02,  1.1253e-02, -4.2003e-02, -2.9827e-01],\n",
       "        [ 1.8436e-01, -4.7509e-02,  2.6350e-01, -7.4789e-02, -1.2223e-01,\n",
       "         -4.5805e-02, -3.1302e-01, -2.3710e-01, -2.2330e-01,  8.9263e-02],\n",
       "        [ 2.0555e-02,  1.5392e-01, -1.6885e-02,  2.9127e-02,  2.3041e-01,\n",
       "         -1.4451e-01, -2.3946e-01, -6.1477e-01, -1.3092e-01,  4.2171e-02],\n",
       "        [ 1.8160e-01, -1.9664e-01, -1.1988e-01, -9.9983e-02,  2.8669e-01,\n",
       "         -4.8012e-02,  5.5846e-02, -8.9082e-02, -5.7527e-02, -1.2641e-01],\n",
       "        [-6.8140e-02,  4.4110e-03, -1.4494e-01,  8.6629e-02,  2.0626e-01,\n",
       "         -1.3522e-01, -2.3853e-01,  3.3434e-02, -3.1937e-01,  7.5387e-02],\n",
       "        [-6.0694e-02, -5.5755e-02, -3.0254e-02,  1.6311e-01, -3.6039e-02,\n",
       "         -1.2835e-02,  1.7834e-01,  5.5570e-02, -1.8501e-02, -4.4102e-02],\n",
       "        [ 2.4241e-01, -1.8881e-01,  2.0100e-01, -1.5270e-02,  3.6792e-02,\n",
       "         -1.5082e-01,  3.8312e-02,  1.6206e-02, -2.7042e-01, -2.8981e-01],\n",
       "        [-1.2185e-01,  5.9207e-02, -6.1643e-02, -1.1309e-02, -4.5192e-02,\n",
       "          1.0670e-01,  9.2561e-02, -2.3905e-01,  1.5926e-01, -3.4242e-01],\n",
       "        [-1.6622e-01,  4.5663e-02,  2.6544e-01, -1.0794e-01, -5.6227e-02,\n",
       "          4.5390e-02,  4.0993e-03, -1.5523e-01, -7.3068e-02, -2.1159e-02],\n",
       "        [-7.0399e-02,  1.8751e-01, -1.1202e-01, -1.1550e-01, -6.0379e-02,\n",
       "          1.9910e-02,  2.7056e-02,  1.2479e-01, -1.2352e-01,  2.2087e-01],\n",
       "        [-1.7499e-01, -2.3580e-01, -1.4886e-01, -8.5267e-02, -3.2628e-02,\n",
       "          3.0237e-02, -1.0651e-01, -7.4113e-02, -1.8416e-01, -1.0124e-01],\n",
       "        [ 2.7345e-01,  1.5296e-01,  3.7316e-02, -1.2573e-01,  1.9781e-01,\n",
       "         -3.9835e-01,  3.0052e-01,  1.2835e-02, -1.4834e-01, -3.3351e-02],\n",
       "        [-5.6601e-02, -2.2403e-02,  1.0470e-01,  5.2682e-03, -4.2573e-03,\n",
       "          8.0103e-02,  2.2046e-01, -1.5923e-01, -2.3054e-01,  2.1707e-01],\n",
       "        [ 5.6981e-02,  1.5018e-01, -7.9957e-02,  8.9900e-03,  2.2672e-01,\n",
       "          1.6859e-01,  1.2891e-01, -1.9929e-02, -2.9365e-01,  7.5381e-02],\n",
       "        [ 8.5436e-02, -4.9616e-03,  2.0992e-01, -1.0031e-01,  1.7722e-01,\n",
       "          7.3073e-02,  5.1490e-02, -1.7096e-01, -1.8127e-01,  9.6937e-02],\n",
       "        [ 3.2397e-02, -2.5250e-02,  1.4348e-01, -1.2380e-01, -1.0073e-02,\n",
       "          1.2497e-01, -5.1346e-02, -1.3362e-01, -1.0028e-01, -2.3696e-02],\n",
       "        [-7.5839e-02, -1.3336e-01,  6.7145e-02,  2.3913e-02, -4.6129e-02,\n",
       "         -1.2160e-02,  2.6634e-01,  3.5157e-02, -2.8061e-01, -1.1241e-01],\n",
       "        [-2.3045e-01,  6.1582e-02, -6.3282e-04, -9.5349e-02, -1.2590e-01,\n",
       "          1.7222e-01,  1.0391e-01,  3.2349e-02, -1.2035e-01,  2.1484e-01],\n",
       "        [ 1.8292e-01, -6.4001e-02, -1.3080e-03, -1.3090e-01,  1.3926e-01,\n",
       "         -2.1319e-02,  1.2455e-01,  1.0400e-01, -6.0179e-02, -6.4149e-02],\n",
       "        [-5.4301e-02,  4.3141e-02,  2.2640e-01, -9.1009e-02,  8.4343e-02,\n",
       "          4.1869e-02,  2.9030e-01, -1.3111e-01, -1.8420e-01,  1.4761e-01],\n",
       "        [-1.0944e-02, -3.8804e-02,  1.4854e-01, -3.0362e-01, -1.3640e-01,\n",
       "         -1.6433e-01, -6.5739e-02, -1.1913e-01,  7.6936e-02,  2.3425e-02],\n",
       "        [ 2.2751e-02,  3.1147e-02, -1.6135e-01,  1.5739e-01,  2.3149e-01,\n",
       "         -6.0832e-02,  3.4064e-01, -1.3978e-01, -7.2963e-02, -1.3818e-01],\n",
       "        [-1.1730e-01,  9.2056e-02,  2.0868e-01, -3.9209e-02,  7.0858e-02,\n",
       "         -4.5476e-02, -8.9791e-02,  6.3686e-03,  1.3454e-02, -2.1726e-02],\n",
       "        [-3.1601e-02, -8.5278e-02,  4.6600e-02,  8.8804e-02,  1.0941e-01,\n",
       "         -1.4452e-01,  1.6674e-01, -9.5835e-02, -1.0943e-01, -6.8116e-02],\n",
       "        [-2.6394e-01,  1.0647e-01,  1.9450e-01, -2.5967e-03, -2.5214e-02,\n",
       "         -2.7489e-01, -1.3912e-01, -8.0195e-02, -6.7779e-02, -1.1025e-02],\n",
       "        [ 1.0254e-02,  2.0076e-01,  1.5357e-01, -6.1225e-03, -2.0504e-02,\n",
       "         -1.7362e-01,  9.8461e-02, -1.1499e-01, -3.1780e-01, -6.9865e-02],\n",
       "        [ 1.5538e-01,  1.9933e-01,  7.8131e-02, -8.2268e-03, -5.1837e-02,\n",
       "          9.4513e-02, -8.9853e-02, -6.5644e-02,  1.6797e-01, -4.5711e-02],\n",
       "        [ 1.6069e-01,  2.3698e-02, -4.2743e-02, -1.9363e-01, -1.0654e-02,\n",
       "          1.3036e-01,  3.1807e-01,  3.4432e-01,  2.2321e-02,  3.3431e-02],\n",
       "        [ 1.4941e-03,  1.5579e-01, -8.7303e-02, -1.1944e-01,  1.0812e-01,\n",
       "         -1.6751e-01,  3.0585e-02, -6.9041e-02,  2.1102e-02, -2.3953e-01],\n",
       "        [ 2.0329e-02,  1.2484e-01, -1.0540e-01, -2.5882e-01,  8.0143e-02,\n",
       "          8.8458e-02,  1.4292e-01, -9.7152e-02, -1.7052e-01,  2.6109e-01],\n",
       "        [-7.5063e-03, -1.1861e-01,  1.9380e-01, -2.7589e-02,  2.4086e-02,\n",
       "          1.2417e-01, -8.3937e-02,  5.6059e-03, -1.9485e-02, -1.2013e-01],\n",
       "        [-2.8200e-01,  5.8889e-02, -2.0184e-01,  6.6043e-02,  1.2160e-02,\n",
       "         -1.8902e-01,  3.1311e-02, -2.5339e-01, -2.1266e-01,  1.4701e-02],\n",
       "        [ 3.9397e-02,  1.6846e-01,  2.6310e-03, -1.3072e-01, -2.5630e-02,\n",
       "         -3.8532e-01,  7.7301e-03, -2.9326e-02, -9.9929e-02, -4.3926e-03],\n",
       "        [ 1.0731e-02,  1.7979e-01, -3.0717e-02,  2.3841e-02,  9.8608e-02,\n",
       "          2.4405e-01,  1.6036e-01,  3.1176e-02, -1.5676e-01, -1.5095e-02],\n",
       "        [-1.8568e-03, -8.1591e-03,  2.6985e-02,  3.3128e-02,  6.1703e-02,\n",
       "          6.2785e-02,  6.3853e-02, -3.1041e-02, -3.7528e-02, -1.3181e-01],\n",
       "        [ 1.5655e-01,  2.3779e-01,  1.4732e-01, -2.1788e-01,  6.1912e-02,\n",
       "         -5.0141e-02, -4.6030e-02, -9.5925e-02, -2.2374e-01, -4.3134e-02]],\n",
       "       grad_fn=<AddmmBackward0>)"
      ]
     },
     "execution_count": 19,
     "metadata": {},
     "output_type": "execute_result"
    }
   ],
   "source": [
    "arr"
   ]
  },
  {
   "cell_type": "code",
   "execution_count": 20,
   "id": "90f0d97c",
   "metadata": {},
   "outputs": [
    {
     "data": {
      "text/plain": [
       "tensor([-0.3439,  0.4047, -0.6670, -1.0873, -0.0173,  0.1262, -0.3359, -0.1565,\n",
       "        -0.1374, -0.0994,  0.1067,  0.1923, -0.6997, -0.6713, -0.4238,  0.3540,\n",
       "        -0.4442,  0.1931, -0.3580, -0.0869, -0.3072,  0.4597, -0.4839, -0.4864,\n",
       "         0.4218, -0.0877, -0.1812,  0.7049, -0.2677, -0.5266, -0.6704, -0.2134,\n",
       "        -0.5001,  0.1388, -0.3804, -0.4037, -0.2192,  0.0983, -1.1133,  0.2691,\n",
       "         0.1546,  0.4222,  0.2366, -0.1672, -0.2679,  0.0122,  0.2089,  0.3730,\n",
       "        -0.5901,  0.2103,  0.0779, -0.1232, -0.5638, -0.2399,  0.4340,  0.7859,\n",
       "        -0.3657,  0.0859, -0.0296, -0.9558, -0.4571,  0.5460,  0.0381, -0.0733],\n",
       "       grad_fn=<SumBackward1>)"
      ]
     },
     "execution_count": 20,
     "metadata": {},
     "output_type": "execute_result"
    }
   ],
   "source": [
    "torch.einsum(\"ij->i\",arr)"
   ]
  },
  {
   "cell_type": "markdown",
   "id": "0db6fef5",
   "metadata": {},
   "source": [
    "### Data Loading"
   ]
  },
  {
   "cell_type": "code",
   "execution_count": 21,
   "id": "5bf5dfa2",
   "metadata": {},
   "outputs": [
    {
     "name": "stdout",
     "output_type": "stream",
     "text": [
      "Files already downloaded and verified\n",
      "Files already downloaded and verified\n"
     ]
    }
   ],
   "source": [
    "train_dataset = datasets.CIFAR10(root='cifar_data/',train=True, transform=transforms.ToTensor(),download=True)\n",
    "train_loader = DataLoader(dataset=train_dataset,batch_size=batch_size,shuffle=True)\n",
    "test_dataset = datasets.CIFAR10(root='cifar_data/',train=False, transform=transforms.ToTensor(),download=True)\n",
    "test_loader = DataLoader(dataset=test_dataset,batch_size=batch_size,shuffle=True)"
   ]
  },
  {
   "cell_type": "markdown",
   "id": "131db9d9",
   "metadata": {},
   "source": [
    "### Intialize the Model"
   ]
  },
  {
   "cell_type": "code",
   "execution_count": 22,
   "id": "43b39a10",
   "metadata": {},
   "outputs": [],
   "source": [
    "model = RNN(input_size,hidden_size,num_layers,num_classes).to(device)"
   ]
  },
  {
   "cell_type": "markdown",
   "id": "f37d57d3",
   "metadata": {},
   "source": [
    "### Loss and Optimizer"
   ]
  },
  {
   "cell_type": "code",
   "execution_count": 23,
   "id": "c1f91635",
   "metadata": {},
   "outputs": [],
   "source": [
    "criterion = nn.CrossEntropyLoss()\n",
    "optimizer = optim.Adam(model.parameters(), lr=learning_rate)"
   ]
  },
  {
   "cell_type": "markdown",
   "id": "ee6d12ef",
   "metadata": {},
   "source": [
    "### Train Network"
   ]
  },
  {
   "cell_type": "code",
   "execution_count": 24,
   "id": "dc77c51d",
   "metadata": {},
   "outputs": [],
   "source": [
    "for epoch in range(num_epochs):\n",
    "    \n",
    "    for batch_idx, (data, targets) in enumerate(train_loader):\n",
    "        # Get the data to CUDA if possible\n",
    "        #data = data.to(device=device).view(data.shape[0],1,32,96).squeeze(1)\n",
    "        shaped_data = torch.zeros(data.shape[0],1,32,96).to(device=device)\n",
    "        for i in range(data.shape[0]):\n",
    "            temp = torch.cat([data[i][j] for j in range(data.shape[1])], dim=1)\n",
    "            shaped_data[i] = temp\n",
    "        shaped_data = shaped_data.squeeze(1)\n",
    "        targets = targets.to(device=device)\n",
    "        \n",
    "        # forward\n",
    "        scores = model(shaped_data)\n",
    "        loss = criterion(scores,targets)\n",
    "        \n",
    "        #backward\n",
    "        optimizer.zero_grad()\n",
    "        loss.backward()\n",
    "        \n",
    "        # Gradient Descent\n",
    "        optimizer.step()"
   ]
  },
  {
   "cell_type": "markdown",
   "id": "82df6464",
   "metadata": {},
   "source": [
    "### Checking the accuracy of the Model"
   ]
  },
  {
   "cell_type": "code",
   "execution_count": 25,
   "id": "b07e065e",
   "metadata": {},
   "outputs": [
    {
     "name": "stdout",
     "output_type": "stream",
     "text": [
      "Checking accuracy on training data\n",
      "Accuracy of plane: 50.48 %\n",
      "Accuracy of car: 50.2 %\n",
      "Accuracy of bird: 9.04 %\n",
      "Accuracy of cat: 4.6 %\n",
      "Accuracy of deer: 5.76 %\n",
      "Accuracy of dog: 13.98 %\n",
      "Accuracy of frog: 0.1 %\n",
      "Accuracy of horse: 0.86 %\n",
      "Accuracy of ship: 3.58 %\n",
      "Accuracy of truck: 2.38 %\n",
      "Got 7049/50000 with accuracy 14.10\n",
      "Checking accuracy on test data\n",
      "Accuracy of plane: 52.0 %\n",
      "Accuracy of car: 48.7 %\n",
      "Accuracy of bird: 9.7 %\n",
      "Accuracy of cat: 4.4 %\n",
      "Accuracy of deer: 6.5 %\n",
      "Accuracy of dog: 13.7 %\n",
      "Accuracy of frog: 0.0 %\n",
      "Accuracy of horse: 0.7 %\n",
      "Accuracy of ship: 3.8 %\n",
      "Accuracy of truck: 2.2 %\n",
      "Got 1417/10000 with accuracy 14.17\n"
     ]
    }
   ],
   "source": [
    "def check_accuracy(loader, model):\n",
    "    \n",
    "    if loader.dataset.train:\n",
    "        print(\"Checking accuracy on training data\")\n",
    "        \n",
    "    else :\n",
    "        print(\"Checking accuracy on test data\")\n",
    "    \n",
    "    num_correct = 0\n",
    "    num_samples = 0\n",
    "    \n",
    "    n_class_correct = [0 for i in range(10)]\n",
    "    n_class_samples = [0 for i in range(10)]\n",
    "    #model.eval()\n",
    "    \n",
    "    classes = ('plane', 'car', 'bird', 'cat', 'deer', 'dog', 'frog', 'horse', 'ship', 'truck')\n",
    "        \n",
    "    with torch.no_grad():\n",
    "        for x,y in loader:\n",
    "            x = x.to(device=device).view(x.shape[0],1,32,96).squeeze(1)\n",
    "            y = y.to(device=device)\n",
    "            \n",
    "            scores = model(x)\n",
    "            \n",
    "            _, predictions = scores.max(1)\n",
    "            num_correct += (predictions==y).sum()\n",
    "            num_samples += predictions.size(0)\n",
    "            \n",
    "            for i in range(y.size(0)):\n",
    "                label = y[i]\n",
    "                pred = predictions[i]\n",
    "                if (label == pred):\n",
    "                    n_class_correct[label] += 1\n",
    "                n_class_samples[label] += 1\n",
    "\n",
    "    for i in range(10):\n",
    "        acc = 100.0 * n_class_correct[i] / n_class_samples[i]\n",
    "        print(f'Accuracy of {classes[i]}: {acc} %')\n",
    "            \n",
    "    print(f'Got {num_correct}/{num_samples} with accuracy {float(num_correct)/float(num_samples)*100:.2f}')\n",
    "        \n",
    "    #model.train()\n",
    "\n",
    "check_accuracy(train_loader,model)\n",
    "check_accuracy(test_loader,model)"
   ]
  },
  {
   "cell_type": "code",
   "execution_count": null,
   "id": "35f1cf85",
   "metadata": {},
   "outputs": [],
   "source": []
  }
 ],
 "metadata": {
  "kernelspec": {
   "display_name": "Python 3 (ipykernel)",
   "language": "python",
   "name": "python3"
  },
  "language_info": {
   "codemirror_mode": {
    "name": "ipython",
    "version": 3
   },
   "file_extension": ".py",
   "mimetype": "text/x-python",
   "name": "python",
   "nbconvert_exporter": "python",
   "pygments_lexer": "ipython3",
   "version": "3.9.12"
  }
 },
 "nbformat": 4,
 "nbformat_minor": 5
}
